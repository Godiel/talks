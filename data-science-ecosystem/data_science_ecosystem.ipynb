{
 "cells": [
  {
   "cell_type": "code",
   "execution_count": 1,
   "metadata": {
    "slideshow": {
     "slide_type": "skip"
    }
   },
   "outputs": [],
   "source": [
    "%matplotlib inline\n",
    "\n",
    "import tensorflow as tf\n",
    "tf.logging.set_verbosity(tf.logging.ERROR)"
   ]
  },
  {
   "cell_type": "markdown",
   "metadata": {
    "slideshow": {
     "slide_type": "slide"
    }
   },
   "source": [
    "# El Ecosistema de herramientas de Machine Learning y Data Science\n",
    "\n",
    "### Juan Pedro Fisanotti\n",
    "\n",
    "@fisadev, fisadev@gmail.com\n",
    "\n",
    "Slides: [bit.ly/ds-ecosystem-talk](https://bit.ly/ds-ecosystem-talk)"
   ]
  },
  {
   "cell_type": "markdown",
   "metadata": {
    "slideshow": {
     "slide_type": "slide"
    }
   },
   "source": [
    "# Panorama global"
   ]
  },
  {
   "cell_type": "markdown",
   "metadata": {
    "slideshow": {
     "slide_type": "fragment"
    }
   },
   "source": [
    "Código propio? Servicio enlatado? Algo intermedio?\n",
    "\n",
    "\n",
    "![](files/own-code-vs-visual-prebuilt-tools.png)"
   ]
  },
  {
   "cell_type": "markdown",
   "metadata": {
    "slideshow": {
     "slide_type": "subslide"
    }
   },
   "source": [
    "- Vendor lockin vs ownership"
   ]
  },
  {
   "cell_type": "markdown",
   "metadata": {
    "slideshow": {
     "slide_type": "subslide"
    }
   },
   "source": [
    "- Flexibilidad de elegir mejor herramienta y modificarla"
   ]
  },
  {
   "cell_type": "markdown",
   "metadata": {
    "slideshow": {
     "slide_type": "subslide"
    }
   },
   "source": [
    "- Sensibilidad, tamaño y ubicación de los datos"
   ]
  },
  {
   "cell_type": "markdown",
   "metadata": {
    "slideshow": {
     "slide_type": "subslide"
    }
   },
   "source": [
    "- Deploy: infra propia? Control?"
   ]
  },
  {
   "cell_type": "markdown",
   "metadata": {
    "slideshow": {
     "slide_type": "subslide"
    }
   },
   "source": [
    "# Código propio: programado en qué?"
   ]
  },
  {
   "cell_type": "markdown",
   "metadata": {
    "slideshow": {
     "slide_type": "fragment"
    }
   },
   "source": [
    "El lenguaje que más me guste?"
   ]
  },
  {
   "cell_type": "markdown",
   "metadata": {
    "slideshow": {
     "slide_type": "subslide"
    }
   },
   "source": [
    "El lenguaje mejor equipado (disponibilidad y madurez de herramientas)"
   ]
  },
  {
   "cell_type": "markdown",
   "metadata": {
    "slideshow": {
     "slide_type": "fragment"
    }
   },
   "source": [
    "En la actualidad: Python y R"
   ]
  },
  {
   "cell_type": "markdown",
   "metadata": {
    "slideshow": {
     "slide_type": "fragment"
    }
   },
   "source": [
    "Python: no solo equipado para Data Science, también equipado para casi todo"
   ]
  },
  {
   "cell_type": "markdown",
   "metadata": {
    "slideshow": {
     "slide_type": "slide"
    }
   },
   "source": [
    "# Herramientas en Python"
   ]
  },
  {
   "cell_type": "markdown",
   "metadata": {
    "slideshow": {
     "slide_type": "subslide"
    }
   },
   "source": [
    "## Entorno de experimentación"
   ]
  },
  {
   "cell_type": "markdown",
   "metadata": {
    "slideshow": {
     "slide_type": "fragment"
    }
   },
   "source": [
    "[Jupyter notebooks](https://jupyter.org/)!\n",
    "\n",
    "Ejemplo: [EDA sobre pasajeros del Titanic](https://github.com/ucseml-team/machine-learning-course/blob/master/titanic/EDA.ipynb)"
   ]
  },
  {
   "cell_type": "markdown",
   "metadata": {
    "slideshow": {
     "slide_type": "fragment"
    }
   },
   "source": [
    "Interactividad al experimentar, editar y correr una parte, visualizar resultados con el código vivo, generar documentos compartibles. Hasta slides interactivas! (estas!)"
   ]
  },
  {
   "cell_type": "markdown",
   "metadata": {
    "slideshow": {
     "slide_type": "subslide"
    }
   },
   "source": [
    "## Manejo de datos\n"
   ]
  },
  {
   "cell_type": "markdown",
   "metadata": {
    "slideshow": {
     "slide_type": "fragment"
    }
   },
   "source": [
    "- [Numpy](https://www.numpy.org/): arrays multidimensionales. Más bajo nivel."
   ]
  },
  {
   "cell_type": "markdown",
   "metadata": {
    "slideshow": {
     "slide_type": "fragment"
    }
   },
   "source": [
    "- [Pandas](https://pandas.pydata.org/): data tabular. Más alto nivel."
   ]
  },
  {
   "cell_type": "markdown",
   "metadata": {
    "slideshow": {
     "slide_type": "fragment"
    }
   },
   "source": [
    "Numpy es super rápido, escrito en C, pero ni nos enteramos desde Python.\n",
    "\n",
    "Pandas usa Numpy por dentro :)"
   ]
  },
  {
   "cell_type": "code",
   "execution_count": 2,
   "metadata": {
    "slideshow": {
     "slide_type": "subslide"
    }
   },
   "outputs": [
    {
     "data": {
      "text/plain": [
       "array([[0.76283931, 0.54013223, 0.41268958],\n",
       "       [0.65041129, 0.76851466, 0.93164286],\n",
       "       [0.89496556, 0.39256089, 0.29965581],\n",
       "       [0.52821704, 0.76035163, 0.202223  ],\n",
       "       [0.14472913, 0.20069208, 0.32104792]])"
      ]
     },
     "execution_count": 2,
     "metadata": {},
     "output_type": "execute_result"
    }
   ],
   "source": [
    "import numpy as np\n",
    "\n",
    "a = np.random.random((5, 3))\n",
    "a"
   ]
  },
  {
   "cell_type": "code",
   "execution_count": 3,
   "metadata": {
    "slideshow": {
     "slide_type": "fragment"
    }
   },
   "outputs": [
    {
     "data": {
      "text/plain": [
       "array([[0.76283931, 0.54013223, 0.        ],\n",
       "       [0.65041129, 0.76851466, 0.93164286],\n",
       "       [0.89496556, 0.        , 0.        ],\n",
       "       [0.52821704, 0.76035163, 0.        ],\n",
       "       [0.        , 0.        , 0.        ]])"
      ]
     },
     "execution_count": 3,
     "metadata": {},
     "output_type": "execute_result"
    }
   ],
   "source": [
    "a[a < 0.5] = 0\n",
    "a"
   ]
  },
  {
   "cell_type": "code",
   "execution_count": 4,
   "metadata": {
    "slideshow": {
     "slide_type": "subslide"
    }
   },
   "outputs": [
    {
     "data": {
      "text/plain": [
       "(891, 12)"
      ]
     },
     "execution_count": 4,
     "metadata": {},
     "output_type": "execute_result"
    }
   ],
   "source": [
    "import pandas as pd\n",
    "\n",
    "passengers = pd.read_csv('/home/fisa/devel/ucse/ml/repo/titanic/train.csv')\n",
    "passengers.shape"
   ]
  },
  {
   "cell_type": "code",
   "execution_count": 5,
   "metadata": {
    "slideshow": {
     "slide_type": "fragment"
    }
   },
   "outputs": [
    {
     "data": {
      "text/html": [
       "<div>\n",
       "<style scoped>\n",
       "    .dataframe tbody tr th:only-of-type {\n",
       "        vertical-align: middle;\n",
       "    }\n",
       "\n",
       "    .dataframe tbody tr th {\n",
       "        vertical-align: top;\n",
       "    }\n",
       "\n",
       "    .dataframe thead th {\n",
       "        text-align: right;\n",
       "    }\n",
       "</style>\n",
       "<table border=\"1\" class=\"dataframe\">\n",
       "  <thead>\n",
       "    <tr style=\"text-align: right;\">\n",
       "      <th></th>\n",
       "      <th>PassengerId</th>\n",
       "      <th>Survived</th>\n",
       "      <th>Pclass</th>\n",
       "      <th>Name</th>\n",
       "      <th>Sex</th>\n",
       "      <th>Age</th>\n",
       "      <th>SibSp</th>\n",
       "      <th>Parch</th>\n",
       "      <th>Ticket</th>\n",
       "      <th>Fare</th>\n",
       "      <th>Cabin</th>\n",
       "      <th>Embarked</th>\n",
       "    </tr>\n",
       "  </thead>\n",
       "  <tbody>\n",
       "    <tr>\n",
       "      <th>262</th>\n",
       "      <td>263</td>\n",
       "      <td>0</td>\n",
       "      <td>1</td>\n",
       "      <td>Taussig, Mr. Emil</td>\n",
       "      <td>male</td>\n",
       "      <td>52.0</td>\n",
       "      <td>1</td>\n",
       "      <td>1</td>\n",
       "      <td>110413</td>\n",
       "      <td>79.65</td>\n",
       "      <td>E67</td>\n",
       "      <td>S</td>\n",
       "    </tr>\n",
       "    <tr>\n",
       "      <th>746</th>\n",
       "      <td>747</td>\n",
       "      <td>0</td>\n",
       "      <td>3</td>\n",
       "      <td>Abbott, Mr. Rossmore Edward</td>\n",
       "      <td>male</td>\n",
       "      <td>16.0</td>\n",
       "      <td>1</td>\n",
       "      <td>1</td>\n",
       "      <td>C.A. 2673</td>\n",
       "      <td>20.25</td>\n",
       "      <td>NaN</td>\n",
       "      <td>S</td>\n",
       "    </tr>\n",
       "    <tr>\n",
       "      <th>573</th>\n",
       "      <td>574</td>\n",
       "      <td>1</td>\n",
       "      <td>3</td>\n",
       "      <td>Kelly, Miss. Mary</td>\n",
       "      <td>female</td>\n",
       "      <td>NaN</td>\n",
       "      <td>0</td>\n",
       "      <td>0</td>\n",
       "      <td>14312</td>\n",
       "      <td>7.75</td>\n",
       "      <td>NaN</td>\n",
       "      <td>Q</td>\n",
       "    </tr>\n",
       "  </tbody>\n",
       "</table>\n",
       "</div>"
      ],
      "text/plain": [
       "     PassengerId  Survived  Pclass                         Name     Sex   Age  \\\n",
       "262          263         0       1            Taussig, Mr. Emil    male  52.0   \n",
       "746          747         0       3  Abbott, Mr. Rossmore Edward    male  16.0   \n",
       "573          574         1       3            Kelly, Miss. Mary  female   NaN   \n",
       "\n",
       "     SibSp  Parch     Ticket   Fare Cabin Embarked  \n",
       "262      1      1     110413  79.65   E67        S  \n",
       "746      1      1  C.A. 2673  20.25   NaN        S  \n",
       "573      0      0      14312   7.75   NaN        Q  "
      ]
     },
     "execution_count": 5,
     "metadata": {},
     "output_type": "execute_result"
    }
   ],
   "source": [
    "passengers.sample(3)"
   ]
  },
  {
   "cell_type": "code",
   "execution_count": 6,
   "metadata": {
    "slideshow": {
     "slide_type": "subslide"
    }
   },
   "outputs": [
    {
     "data": {
      "text/plain": [
       "177"
      ]
     },
     "execution_count": 6,
     "metadata": {},
     "output_type": "execute_result"
    }
   ],
   "source": [
    "passengers.Age.isnull().sum()"
   ]
  },
  {
   "cell_type": "code",
   "execution_count": 7,
   "metadata": {
    "slideshow": {
     "slide_type": "fragment"
    }
   },
   "outputs": [
    {
     "data": {
      "text/plain": [
       "(714, 12)"
      ]
     },
     "execution_count": 7,
     "metadata": {},
     "output_type": "execute_result"
    }
   ],
   "source": [
    "passengers = passengers[~passengers.Age.isnull()]\n",
    "passengers.shape"
   ]
  },
  {
   "cell_type": "code",
   "execution_count": 8,
   "metadata": {
    "slideshow": {
     "slide_type": "subslide"
    }
   },
   "outputs": [
    {
     "data": {
      "text/html": [
       "<div>\n",
       "<style scoped>\n",
       "    .dataframe tbody tr th:only-of-type {\n",
       "        vertical-align: middle;\n",
       "    }\n",
       "\n",
       "    .dataframe tbody tr th {\n",
       "        vertical-align: top;\n",
       "    }\n",
       "\n",
       "    .dataframe thead th {\n",
       "        text-align: right;\n",
       "    }\n",
       "</style>\n",
       "<table border=\"1\" class=\"dataframe\">\n",
       "  <thead>\n",
       "    <tr style=\"text-align: right;\">\n",
       "      <th></th>\n",
       "      <th>PassengerId</th>\n",
       "      <th>Survived</th>\n",
       "      <th>Pclass</th>\n",
       "      <th>Name</th>\n",
       "      <th>Sex</th>\n",
       "      <th>Age</th>\n",
       "      <th>SibSp</th>\n",
       "      <th>Parch</th>\n",
       "      <th>Ticket</th>\n",
       "      <th>Fare</th>\n",
       "      <th>Cabin</th>\n",
       "      <th>Embarked</th>\n",
       "    </tr>\n",
       "  </thead>\n",
       "  <tbody>\n",
       "    <tr>\n",
       "      <th>96</th>\n",
       "      <td>97</td>\n",
       "      <td>0</td>\n",
       "      <td>1</td>\n",
       "      <td>Goldschmidt, Mr. George B</td>\n",
       "      <td>male</td>\n",
       "      <td>71.0</td>\n",
       "      <td>0</td>\n",
       "      <td>0</td>\n",
       "      <td>PC 17754</td>\n",
       "      <td>34.6542</td>\n",
       "      <td>A5</td>\n",
       "      <td>C</td>\n",
       "    </tr>\n",
       "    <tr>\n",
       "      <th>851</th>\n",
       "      <td>852</td>\n",
       "      <td>0</td>\n",
       "      <td>3</td>\n",
       "      <td>Svensson, Mr. Johan</td>\n",
       "      <td>male</td>\n",
       "      <td>74.0</td>\n",
       "      <td>0</td>\n",
       "      <td>0</td>\n",
       "      <td>347060</td>\n",
       "      <td>7.7750</td>\n",
       "      <td>NaN</td>\n",
       "      <td>S</td>\n",
       "    </tr>\n",
       "    <tr>\n",
       "      <th>116</th>\n",
       "      <td>117</td>\n",
       "      <td>0</td>\n",
       "      <td>3</td>\n",
       "      <td>Connors, Mr. Patrick</td>\n",
       "      <td>male</td>\n",
       "      <td>70.5</td>\n",
       "      <td>0</td>\n",
       "      <td>0</td>\n",
       "      <td>370369</td>\n",
       "      <td>7.7500</td>\n",
       "      <td>NaN</td>\n",
       "      <td>Q</td>\n",
       "    </tr>\n",
       "  </tbody>\n",
       "</table>\n",
       "</div>"
      ],
      "text/plain": [
       "     PassengerId  Survived  Pclass                       Name   Sex   Age  \\\n",
       "96            97         0       1  Goldschmidt, Mr. George B  male  71.0   \n",
       "851          852         0       3        Svensson, Mr. Johan  male  74.0   \n",
       "116          117         0       3       Connors, Mr. Patrick  male  70.5   \n",
       "\n",
       "     SibSp  Parch    Ticket     Fare Cabin Embarked  \n",
       "96       0      0  PC 17754  34.6542    A5        C  \n",
       "851      0      0    347060   7.7750   NaN        S  \n",
       "116      0      0    370369   7.7500   NaN        Q  "
      ]
     },
     "execution_count": 8,
     "metadata": {},
     "output_type": "execute_result"
    }
   ],
   "source": [
    "passengers[passengers.Age > 70].sample(3)"
   ]
  },
  {
   "cell_type": "code",
   "execution_count": 9,
   "metadata": {
    "slideshow": {
     "slide_type": "subslide"
    }
   },
   "outputs": [
    {
     "data": {
      "text/plain": [
       "False    413\n",
       "True     301\n",
       "Name: priority, dtype: int64"
      ]
     },
     "execution_count": 9,
     "metadata": {},
     "output_type": "execute_result"
    }
   ],
   "source": [
    "passengers['priority'] = (passengers.Sex == 'female') | (passengers.Age <= 15)\n",
    "passengers.priority.value_counts()"
   ]
  },
  {
   "cell_type": "code",
   "execution_count": 10,
   "metadata": {
    "slideshow": {
     "slide_type": "fragment"
    }
   },
   "outputs": [
    {
     "data": {
      "text/html": [
       "<div>\n",
       "<style scoped>\n",
       "    .dataframe tbody tr th:only-of-type {\n",
       "        vertical-align: middle;\n",
       "    }\n",
       "\n",
       "    .dataframe tbody tr th {\n",
       "        vertical-align: top;\n",
       "    }\n",
       "\n",
       "    .dataframe thead th {\n",
       "        text-align: right;\n",
       "    }\n",
       "</style>\n",
       "<table border=\"1\" class=\"dataframe\">\n",
       "  <thead>\n",
       "    <tr style=\"text-align: right;\">\n",
       "      <th></th>\n",
       "      <th>PassengerId</th>\n",
       "      <th>Survived</th>\n",
       "      <th>Pclass</th>\n",
       "      <th>Name</th>\n",
       "      <th>Sex</th>\n",
       "      <th>Age</th>\n",
       "      <th>SibSp</th>\n",
       "      <th>Parch</th>\n",
       "      <th>Ticket</th>\n",
       "      <th>Fare</th>\n",
       "      <th>Cabin</th>\n",
       "      <th>Embarked</th>\n",
       "      <th>priority</th>\n",
       "    </tr>\n",
       "  </thead>\n",
       "  <tbody>\n",
       "    <tr>\n",
       "      <th>23</th>\n",
       "      <td>24</td>\n",
       "      <td>1</td>\n",
       "      <td>1</td>\n",
       "      <td>Sloper, Mr. William Thompson</td>\n",
       "      <td>male</td>\n",
       "      <td>28.0</td>\n",
       "      <td>0</td>\n",
       "      <td>0</td>\n",
       "      <td>113788</td>\n",
       "      <td>35.5000</td>\n",
       "      <td>A6</td>\n",
       "      <td>S</td>\n",
       "      <td>False</td>\n",
       "    </tr>\n",
       "    <tr>\n",
       "      <th>141</th>\n",
       "      <td>142</td>\n",
       "      <td>1</td>\n",
       "      <td>3</td>\n",
       "      <td>Nysten, Miss. Anna Sofia</td>\n",
       "      <td>female</td>\n",
       "      <td>22.0</td>\n",
       "      <td>0</td>\n",
       "      <td>0</td>\n",
       "      <td>347081</td>\n",
       "      <td>7.7500</td>\n",
       "      <td>NaN</td>\n",
       "      <td>S</td>\n",
       "      <td>True</td>\n",
       "    </tr>\n",
       "    <tr>\n",
       "      <th>69</th>\n",
       "      <td>70</td>\n",
       "      <td>0</td>\n",
       "      <td>3</td>\n",
       "      <td>Kink, Mr. Vincenz</td>\n",
       "      <td>male</td>\n",
       "      <td>26.0</td>\n",
       "      <td>2</td>\n",
       "      <td>0</td>\n",
       "      <td>315151</td>\n",
       "      <td>8.6625</td>\n",
       "      <td>NaN</td>\n",
       "      <td>S</td>\n",
       "      <td>False</td>\n",
       "    </tr>\n",
       "    <tr>\n",
       "      <th>534</th>\n",
       "      <td>535</td>\n",
       "      <td>0</td>\n",
       "      <td>3</td>\n",
       "      <td>Cacic, Miss. Marija</td>\n",
       "      <td>female</td>\n",
       "      <td>30.0</td>\n",
       "      <td>0</td>\n",
       "      <td>0</td>\n",
       "      <td>315084</td>\n",
       "      <td>8.6625</td>\n",
       "      <td>NaN</td>\n",
       "      <td>S</td>\n",
       "      <td>True</td>\n",
       "    </tr>\n",
       "    <tr>\n",
       "      <th>758</th>\n",
       "      <td>759</td>\n",
       "      <td>0</td>\n",
       "      <td>3</td>\n",
       "      <td>Theobald, Mr. Thomas Leonard</td>\n",
       "      <td>male</td>\n",
       "      <td>34.0</td>\n",
       "      <td>0</td>\n",
       "      <td>0</td>\n",
       "      <td>363294</td>\n",
       "      <td>8.0500</td>\n",
       "      <td>NaN</td>\n",
       "      <td>S</td>\n",
       "      <td>False</td>\n",
       "    </tr>\n",
       "  </tbody>\n",
       "</table>\n",
       "</div>"
      ],
      "text/plain": [
       "     PassengerId  Survived  Pclass                          Name     Sex  \\\n",
       "23            24         1       1  Sloper, Mr. William Thompson    male   \n",
       "141          142         1       3      Nysten, Miss. Anna Sofia  female   \n",
       "69            70         0       3             Kink, Mr. Vincenz    male   \n",
       "534          535         0       3           Cacic, Miss. Marija  female   \n",
       "758          759         0       3  Theobald, Mr. Thomas Leonard    male   \n",
       "\n",
       "      Age  SibSp  Parch  Ticket     Fare Cabin Embarked  priority  \n",
       "23   28.0      0      0  113788  35.5000    A6        S     False  \n",
       "141  22.0      0      0  347081   7.7500   NaN        S      True  \n",
       "69   26.0      2      0  315151   8.6625   NaN        S     False  \n",
       "534  30.0      0      0  315084   8.6625   NaN        S      True  \n",
       "758  34.0      0      0  363294   8.0500   NaN        S     False  "
      ]
     },
     "execution_count": 10,
     "metadata": {},
     "output_type": "execute_result"
    }
   ],
   "source": [
    "passengers.sample(5)"
   ]
  },
  {
   "cell_type": "code",
   "execution_count": 11,
   "metadata": {
    "scrolled": true,
    "slideshow": {
     "slide_type": "subslide"
    }
   },
   "outputs": [
    {
     "data": {
      "image/png": "[encoded data removed]",
      "text/plain": [
       "<Figure size 432x288 with 2 Axes>"
      ]
     },
     "metadata": {
      "needs_background": "light"
     },
     "output_type": "display_data"
    }
   ],
   "source": [
    "passengers.Survived.hist(by=passengers.priority);"
   ]
  },
  {
   "cell_type": "markdown",
   "metadata": {
    "slideshow": {
     "slide_type": "subslide"
    }
   },
   "source": [
    "## Manejo de datos en mayor escala\n"
   ]
  },
  {
   "cell_type": "markdown",
   "metadata": {
    "slideshow": {
     "slide_type": "fragment"
    }
   },
   "source": [
    "Pandas trabaja con los datos en ram. Y si mi ram no es suficiente?"
   ]
  },
  {
   "cell_type": "markdown",
   "metadata": {
    "slideshow": {
     "slide_type": "fragment"
    }
   },
   "source": [
    "Más ram."
   ]
  },
  {
   "cell_type": "markdown",
   "metadata": {
    "slideshow": {
     "slide_type": "fragment"
    }
   },
   "source": [
    "o [Dask](https://dask.org/): un Pandas para datos que no entran en ram"
   ]
  },
  {
   "cell_type": "markdown",
   "metadata": {
    "slideshow": {
     "slide_type": "subslide"
    }
   },
   "source": [
    "## Visualización\n"
   ]
  },
  {
   "cell_type": "markdown",
   "metadata": {
    "slideshow": {
     "slide_type": "fragment"
    }
   },
   "source": [
    "- [Matplotlib](https://matplotlib.org/): la herramienta más básica para graficar (muy potente, no tan amigable, muy compatible con otras cosas como Pandas!)"
   ]
  },
  {
   "cell_type": "markdown",
   "metadata": {
    "slideshow": {
     "slide_type": "fragment"
    }
   },
   "source": [
    "- [Bokeh](https://bokeh.pydata.org/en/latest/): más interactivo, más lindo"
   ]
  },
  {
   "cell_type": "markdown",
   "metadata": {
    "slideshow": {
     "slide_type": "fragment"
    }
   },
   "source": [
    "- Otros! [Seaborn](https://seaborn.pydata.org/) (usa Matplotlib por dentro), [Altair](https://altair-viz.github.io/), [Plotly](https://plot.ly/python/), ..."
   ]
  },
  {
   "cell_type": "code",
   "execution_count": 12,
   "metadata": {
    "slideshow": {
     "slide_type": "subslide"
    }
   },
   "outputs": [
    {
     "data": {
      "image/png": "[encoded data removed]",
      "text/plain": [
       "<Figure size 432x288 with 1 Axes>"
      ]
     },
     "metadata": {
      "needs_background": "light"
     },
     "output_type": "display_data"
    }
   ],
   "source": [
    "from matplotlib import pyplot\n",
    "\n",
    "normal_passengers = passengers[passengers.Fare < 100]\n",
    "\n",
    "pyplot.scatter(\n",
    "    normal_passengers.Age,\n",
    "    normal_passengers.Fare, \n",
    "    c=normal_passengers.priority,\n",
    ");"
   ]
  },
  {
   "cell_type": "code",
   "execution_count": 13,
   "metadata": {
    "scrolled": true,
    "slideshow": {
     "slide_type": "subslide"
    }
   },
   "outputs": [
    {
     "data": {
      "image/png": "[encoded data removed]",
      "text/plain": [
       "<Figure size 432x288 with 1 Axes>"
      ]
     },
     "metadata": {
      "needs_background": "light"
     },
     "output_type": "display_data"
    }
   ],
   "source": [
    "pyplot.violinplot(\n",
    "    [normal_passengers.Fare,\n",
    "     passengers.Age],\n",
    "    vert=False,\n",
    ");"
   ]
  },
  {
   "cell_type": "markdown",
   "metadata": {
    "slideshow": {
     "slide_type": "subslide"
    }
   },
   "source": [
    "Muchísimo más!\n",
    "\n",
    "[Galería](https://matplotlib.org/gallery.html)"
   ]
  },
  {
   "cell_type": "code",
   "execution_count": 14,
   "metadata": {
    "slideshow": {
     "slide_type": "subslide"
    }
   },
   "outputs": [
    {
     "data": {
      "text/html": [
       "\n",
       "    <div class=\"bk-root\">\n",
       "        <a href=\"https://bokeh.pydata.org\" target=\"_blank\" class=\"bk-logo bk-logo-small bk-logo-notebook\"></a>\n",
       "        <span id=\"1001\">Loading BokehJS ...</span>\n",
       "    </div>"
      ]
     },
     "metadata": {},
     "output_type": "display_data"
    },
    {
     "data": {
      "application/javascript": [
       "\n",
       "(function(root) {\n",
       "  function now() {\n",
       "    return new Date();\n",
       "  }\n",
       "\n",
       "  var force = true;\n",
       "\n",
       "  if (typeof root._bokeh_onload_callbacks === \"undefined\" || force === true) {\n",
       "    root._bokeh_onload_callbacks = [];\n",
       "    root._bokeh_is_loading = undefined;\n",
       "  }\n",
       "\n",
       "  var JS_MIME_TYPE = 'application/javascript';\n",
       "  var HTML_MIME_TYPE = 'text/html';\n",
       "  var EXEC_MIME_TYPE = 'application/vnd.bokehjs_exec.v0+json';\n",
       "  var CLASS_NAME = 'output_bokeh rendered_html';\n",
       "\n",
       "  /**\n",
       "   * Render data to the DOM node\n",
       "   */\n",
       "  function render(props, node) {\n",
       "    var script = document.createElement(\"script\");\n",
       "    node.appendChild(script);\n",
       "  }\n",
       "\n",
       "  /**\n",
       "   * Handle when an output is cleared or removed\n",
       "   */\n",
       "  function handleClearOutput(event, handle) {\n",
       "    var cell = handle.cell;\n",
       "\n",
       "    var id = cell.output_area._bokeh_element_id;\n",
       "    var server_id = cell.output_area._bokeh_server_id;\n",
       "    // Clean up Bokeh references\n",
       "    if (id != null && id in Bokeh.index) {\n",
       "      Bokeh.index[id].model.document.clear();\n",
       "      delete Bokeh.index[id];\n",
       "    }\n",
       "\n",
       "    if (server_id !== undefined) {\n",
       "      // Clean up Bokeh references\n",
       "      var cmd = \"from bokeh.io.state import curstate; print(curstate().uuid_to_server['\" + server_id + \"'].get_sessions()[0].document.roots[0]._id)\";\n",
       "      cell.notebook.kernel.execute(cmd, {\n",
       "        iopub: {\n",
       "          output: function(msg) {\n",
       "            var id = msg.content.text.trim();\n",
       "            if (id in Bokeh.index) {\n",
       "              Bokeh.index[id].model.document.clear();\n",
       "              delete Bokeh.index[id];\n",
       "            }\n",
       "          }\n",
       "        }\n",
       "      });\n",
       "      // Destroy server and session\n",
       "      var cmd = \"import bokeh.io.notebook as ion; ion.destroy_server('\" + server_id + \"')\";\n",
       "      cell.notebook.kernel.execute(cmd);\n",
       "    }\n",
       "  }\n",
       "\n",
       "  /**\n",
       "   * Handle when a new output is added\n",
       "   */\n",
       "  function handleAddOutput(event, handle) {\n",
       "    var output_area = handle.output_area;\n",
       "    var output = handle.output;\n",
       "\n",
       "    // limit handleAddOutput to display_data with EXEC_MIME_TYPE content only\n",
       "    if ((output.output_type != \"display_data\") || (!output.data.hasOwnProperty(EXEC_MIME_TYPE))) {\n",
       "      return\n",
       "    }\n",
       "\n",
       "    var toinsert = output_area.element.find(\".\" + CLASS_NAME.split(' ')[0]);\n",
       "\n",
       "    if (output.metadata[EXEC_MIME_TYPE][\"id\"] !== undefined) {\n",
       "      toinsert[toinsert.length - 1].firstChild.textContent = output.data[JS_MIME_TYPE];\n",
       "      // store reference to embed id on output_area\n",
       "      output_area._bokeh_element_id = output.metadata[EXEC_MIME_TYPE][\"id\"];\n",
       "    }\n",
       "    if (output.metadata[EXEC_MIME_TYPE][\"server_id\"] !== undefined) {\n",
       "      var bk_div = document.createElement(\"div\");\n",
       "      bk_div.innerHTML = output.data[HTML_MIME_TYPE];\n",
       "      var script_attrs = bk_div.children[0].attributes;\n",
       "      for (var i = 0; i < script_attrs.length; i++) {\n",
       "        toinsert[toinsert.length - 1].firstChild.setAttribute(script_attrs[i].name, script_attrs[i].value);\n",
       "      }\n",
       "      // store reference to server id on output_area\n",
       "      output_area._bokeh_server_id = output.metadata[EXEC_MIME_TYPE][\"server_id\"];\n",
       "    }\n",
       "  }\n",
       "\n",
       "  function register_renderer(events, OutputArea) {\n",
       "\n",
       "    function append_mime(data, metadata, element) {\n",
       "      // create a DOM node to render to\n",
       "      var toinsert = this.create_output_subarea(\n",
       "        metadata,\n",
       "        CLASS_NAME,\n",
       "        EXEC_MIME_TYPE\n",
       "      );\n",
       "      this.keyboard_manager.register_events(toinsert);\n",
       "      // Render to node\n",
       "      var props = {data: data, metadata: metadata[EXEC_MIME_TYPE]};\n",
       "      render(props, toinsert[toinsert.length - 1]);\n",
       "      element.append(toinsert);\n",
       "      return toinsert\n",
       "    }\n",
       "\n",
       "    /* Handle when an output is cleared or removed */\n",
       "    events.on('clear_output.CodeCell', handleClearOutput);\n",
       "    events.on('delete.Cell', handleClearOutput);\n",
       "\n",
       "    /* Handle when a new output is added */\n",
       "    events.on('output_added.OutputArea', handleAddOutput);\n",
       "\n",
       "    /**\n",
       "     * Register the mime type and append_mime function with output_area\n",
       "     */\n",
       "    OutputArea.prototype.register_mime_type(EXEC_MIME_TYPE, append_mime, {\n",
       "      /* Is output safe? */\n",
       "      safe: true,\n",
       "      /* Index of renderer in `output_area.display_order` */\n",
       "      index: 0\n",
       "    });\n",
       "  }\n",
       "\n",
       "  // register the mime type if in Jupyter Notebook environment and previously unregistered\n",
       "  if (root.Jupyter !== undefined) {\n",
       "    var events = require('base/js/events');\n",
       "    var OutputArea = require('notebook/js/outputarea').OutputArea;\n",
       "\n",
       "    if (OutputArea.prototype.mime_types().indexOf(EXEC_MIME_TYPE) == -1) {\n",
       "      register_renderer(events, OutputArea);\n",
       "    }\n",
       "  }\n",
       "\n",
       "  \n",
       "  if (typeof (root._bokeh_timeout) === \"undefined\" || force === true) {\n",
       "    root._bokeh_timeout = Date.now() + 5000;\n",
       "    root._bokeh_failed_load = false;\n",
       "  }\n",
       "\n",
       "  var NB_LOAD_WARNING = {'data': {'text/html':\n",
       "     \"<div style='background-color: #fdd'>\\n\"+\n",
       "     \"<p>\\n\"+\n",
       "     \"BokehJS does not appear to have successfully loaded. If loading BokehJS from CDN, this \\n\"+\n",
       "     \"may be due to a slow or bad network connection. Possible fixes:\\n\"+\n",
       "     \"</p>\\n\"+\n",
       "     \"<ul>\\n\"+\n",
       "     \"<li>re-rerun `output_notebook()` to attempt to load from CDN again, or</li>\\n\"+\n",
       "     \"<li>use INLINE resources instead, as so:</li>\\n\"+\n",
       "     \"</ul>\\n\"+\n",
       "     \"<code>\\n\"+\n",
       "     \"from bokeh.resources import INLINE\\n\"+\n",
       "     \"output_notebook(resources=INLINE)\\n\"+\n",
       "     \"</code>\\n\"+\n",
       "     \"</div>\"}};\n",
       "\n",
       "  function display_loaded() {\n",
       "    var el = document.getElementById(\"1001\");\n",
       "    if (el != null) {\n",
       "      el.textContent = \"BokehJS is loading...\";\n",
       "    }\n",
       "    if (root.Bokeh !== undefined) {\n",
       "      if (el != null) {\n",
       "        el.textContent = \"BokehJS \" + root.Bokeh.version + \" successfully loaded.\";\n",
       "      }\n",
       "    } else if (Date.now() < root._bokeh_timeout) {\n",
       "      setTimeout(display_loaded, 100)\n",
       "    }\n",
       "  }\n",
       "\n",
       "\n",
       "  function run_callbacks() {\n",
       "    try {\n",
       "      root._bokeh_onload_callbacks.forEach(function(callback) {\n",
       "        if (callback != null)\n",
       "          callback();\n",
       "      });\n",
       "    } finally {\n",
       "      delete root._bokeh_onload_callbacks\n",
       "    }\n",
       "    console.debug(\"Bokeh: all callbacks have finished\");\n",
       "  }\n",
       "\n",
       "  function load_libs(css_urls, js_urls, callback) {\n",
       "    if (css_urls == null) css_urls = [];\n",
       "    if (js_urls == null) js_urls = [];\n",
       "\n",
       "    root._bokeh_onload_callbacks.push(callback);\n",
       "    if (root._bokeh_is_loading > 0) {\n",
       "      console.debug(\"Bokeh: BokehJS is being loaded, scheduling callback at\", now());\n",
       "      return null;\n",
       "    }\n",
       "    if (js_urls == null || js_urls.length === 0) {\n",
       "      run_callbacks();\n",
       "      return null;\n",
       "    }\n",
       "    console.debug(\"Bokeh: BokehJS not loaded, scheduling load and callback at\", now());\n",
       "    root._bokeh_is_loading = css_urls.length + js_urls.length;\n",
       "\n",
       "    function on_load() {\n",
       "      root._bokeh_is_loading--;\n",
       "      if (root._bokeh_is_loading === 0) {\n",
       "        console.debug(\"Bokeh: all BokehJS libraries/stylesheets loaded\");\n",
       "        run_callbacks()\n",
       "      }\n",
       "    }\n",
       "\n",
       "    function on_error() {\n",
       "      console.error(\"failed to load \" + url);\n",
       "    }\n",
       "\n",
       "    for (var i = 0; i < css_urls.length; i++) {\n",
       "      var url = css_urls[i];\n",
       "      const element = document.createElement(\"link\");\n",
       "      element.onload = on_load;\n",
       "      element.onerror = on_error;\n",
       "      element.rel = \"stylesheet\";\n",
       "      element.type = \"text/css\";\n",
       "      element.href = url;\n",
       "      console.debug(\"Bokeh: injecting link tag for BokehJS stylesheet: \", url);\n",
       "      document.body.appendChild(element);\n",
       "    }\n",
       "\n",
       "    for (var i = 0; i < js_urls.length; i++) {\n",
       "      var url = js_urls[i];\n",
       "      var element = document.createElement('script');\n",
       "      element.onload = on_load;\n",
       "      element.onerror = on_error;\n",
       "      element.async = false;\n",
       "      element.src = url;\n",
       "      console.debug(\"Bokeh: injecting script tag for BokehJS library: \", url);\n",
       "      document.head.appendChild(element);\n",
       "    }\n",
       "  };var element = document.getElementById(\"1001\");\n",
       "  if (element == null) {\n",
       "    console.error(\"Bokeh: ERROR: autoload.js configured with elementid '1001' but no matching script tag was found. \")\n",
       "    return false;\n",
       "  }\n",
       "\n",
       "  function inject_raw_css(css) {\n",
       "    const element = document.createElement(\"style\");\n",
       "    element.appendChild(document.createTextNode(css));\n",
       "    document.body.appendChild(element);\n",
       "  }\n",
       "\n",
       "  var js_urls = [\"https://cdn.pydata.org/bokeh/release/bokeh-1.2.0.min.js\", \"https://cdn.pydata.org/bokeh/release/bokeh-widgets-1.2.0.min.js\", \"https://cdn.pydata.org/bokeh/release/bokeh-tables-1.2.0.min.js\", \"https://cdn.pydata.org/bokeh/release/bokeh-gl-1.2.0.min.js\"];\n",
       "  var css_urls = [\"https://cdn.pydata.org/bokeh/release/bokeh-1.2.0.min.css\", \"https://cdn.pydata.org/bokeh/release/bokeh-widgets-1.2.0.min.css\", \"https://cdn.pydata.org/bokeh/release/bokeh-tables-1.2.0.min.css\"];\n",
       "\n",
       "  var inline_js = [\n",
       "    function(Bokeh) {\n",
       "      Bokeh.set_log_level(\"info\");\n",
       "    },\n",
       "    \n",
       "    function(Bokeh) {\n",
       "      \n",
       "    },\n",
       "    function(Bokeh) {} // ensure no trailing comma for IE\n",
       "  ];\n",
       "\n",
       "  function run_inline_js() {\n",
       "    \n",
       "    if ((root.Bokeh !== undefined) || (force === true)) {\n",
       "      for (var i = 0; i < inline_js.length; i++) {\n",
       "        inline_js[i].call(root, root.Bokeh);\n",
       "      }if (force === true) {\n",
       "        display_loaded();\n",
       "      }} else if (Date.now() < root._bokeh_timeout) {\n",
       "      setTimeout(run_inline_js, 100);\n",
       "    } else if (!root._bokeh_failed_load) {\n",
       "      console.log(\"Bokeh: BokehJS failed to load within specified timeout.\");\n",
       "      root._bokeh_failed_load = true;\n",
       "    } else if (force !== true) {\n",
       "      var cell = $(document.getElementById(\"1001\")).parents('.cell').data().cell;\n",
       "      cell.output_area.append_execute_result(NB_LOAD_WARNING)\n",
       "    }\n",
       "\n",
       "  }\n",
       "\n",
       "  if (root._bokeh_is_loading === 0) {\n",
       "    console.debug(\"Bokeh: BokehJS loaded, going straight to plotting\");\n",
       "    run_inline_js();\n",
       "  } else {\n",
       "    load_libs(css_urls, js_urls, function() {\n",
       "      console.debug(\"Bokeh: BokehJS plotting callback run at\", now());\n",
       "      run_inline_js();\n",
       "    });\n",
       "  }\n",
       "}(window));"
      ],
      "application/vnd.bokehjs_load.v0+json": "\n(function(root) {\n  function now() {\n    return new Date();\n  }\n\n  var force = true;\n\n  if (typeof root._bokeh_onload_callbacks === \"undefined\" || force === true) {\n    root._bokeh_onload_callbacks = [];\n    root._bokeh_is_loading = undefined;\n  }\n\n  \n\n  \n  if (typeof (root._bokeh_timeout) === \"undefined\" || force === true) {\n    root._bokeh_timeout = Date.now() + 5000;\n    root._bokeh_failed_load = false;\n  }\n\n  var NB_LOAD_WARNING = {'data': {'text/html':\n     \"<div style='background-color: #fdd'>\\n\"+\n     \"<p>\\n\"+\n     \"BokehJS does not appear to have successfully loaded. If loading BokehJS from CDN, this \\n\"+\n     \"may be due to a slow or bad network connection. Possible fixes:\\n\"+\n     \"</p>\\n\"+\n     \"<ul>\\n\"+\n     \"<li>re-rerun `output_notebook()` to attempt to load from CDN again, or</li>\\n\"+\n     \"<li>use INLINE resources instead, as so:</li>\\n\"+\n     \"</ul>\\n\"+\n     \"<code>\\n\"+\n     \"from bokeh.resources import INLINE\\n\"+\n     \"output_notebook(resources=INLINE)\\n\"+\n     \"</code>\\n\"+\n     \"</div>\"}};\n\n  function display_loaded() {\n    var el = document.getElementById(\"1001\");\n    if (el != null) {\n      el.textContent = \"BokehJS is loading...\";\n    }\n    if (root.Bokeh !== undefined) {\n      if (el != null) {\n        el.textContent = \"BokehJS \" + root.Bokeh.version + \" successfully loaded.\";\n      }\n    } else if (Date.now() < root._bokeh_timeout) {\n      setTimeout(display_loaded, 100)\n    }\n  }\n\n\n  function run_callbacks() {\n    try {\n      root._bokeh_onload_callbacks.forEach(function(callback) {\n        if (callback != null)\n          callback();\n      });\n    } finally {\n      delete root._bokeh_onload_callbacks\n    }\n    console.debug(\"Bokeh: all callbacks have finished\");\n  }\n\n  function load_libs(css_urls, js_urls, callback) {\n    if (css_urls == null) css_urls = [];\n    if (js_urls == null) js_urls = [];\n\n    root._bokeh_onload_callbacks.push(callback);\n    if (root._bokeh_is_loading > 0) {\n      console.debug(\"Bokeh: BokehJS is being loaded, scheduling callback at\", now());\n      return null;\n    }\n    if (js_urls == null || js_urls.length === 0) {\n      run_callbacks();\n      return null;\n    }\n    console.debug(\"Bokeh: BokehJS not loaded, scheduling load and callback at\", now());\n    root._bokeh_is_loading = css_urls.length + js_urls.length;\n\n    function on_load() {\n      root._bokeh_is_loading--;\n      if (root._bokeh_is_loading === 0) {\n        console.debug(\"Bokeh: all BokehJS libraries/stylesheets loaded\");\n        run_callbacks()\n      }\n    }\n\n    function on_error() {\n      console.error(\"failed to load \" + url);\n    }\n\n    for (var i = 0; i < css_urls.length; i++) {\n      var url = css_urls[i];\n      const element = document.createElement(\"link\");\n      element.onload = on_load;\n      element.onerror = on_error;\n      element.rel = \"stylesheet\";\n      element.type = \"text/css\";\n      element.href = url;\n      console.debug(\"Bokeh: injecting link tag for BokehJS stylesheet: \", url);\n      document.body.appendChild(element);\n    }\n\n    for (var i = 0; i < js_urls.length; i++) {\n      var url = js_urls[i];\n      var element = document.createElement('script');\n      element.onload = on_load;\n      element.onerror = on_error;\n      element.async = false;\n      element.src = url;\n      console.debug(\"Bokeh: injecting script tag for BokehJS library: \", url);\n      document.head.appendChild(element);\n    }\n  };var element = document.getElementById(\"1001\");\n  if (element == null) {\n    console.error(\"Bokeh: ERROR: autoload.js configured with elementid '1001' but no matching script tag was found. \")\n    return false;\n  }\n\n  function inject_raw_css(css) {\n    const element = document.createElement(\"style\");\n    element.appendChild(document.createTextNode(css));\n    document.body.appendChild(element);\n  }\n\n  var js_urls = [\"https://cdn.pydata.org/bokeh/release/bokeh-1.2.0.min.js\", \"https://cdn.pydata.org/bokeh/release/bokeh-widgets-1.2.0.min.js\", \"https://cdn.pydata.org/bokeh/release/bokeh-tables-1.2.0.min.js\", \"https://cdn.pydata.org/bokeh/release/bokeh-gl-1.2.0.min.js\"];\n  var css_urls = [\"https://cdn.pydata.org/bokeh/release/bokeh-1.2.0.min.css\", \"https://cdn.pydata.org/bokeh/release/bokeh-widgets-1.2.0.min.css\", \"https://cdn.pydata.org/bokeh/release/bokeh-tables-1.2.0.min.css\"];\n\n  var inline_js = [\n    function(Bokeh) {\n      Bokeh.set_log_level(\"info\");\n    },\n    \n    function(Bokeh) {\n      \n    },\n    function(Bokeh) {} // ensure no trailing comma for IE\n  ];\n\n  function run_inline_js() {\n    \n    if ((root.Bokeh !== undefined) || (force === true)) {\n      for (var i = 0; i < inline_js.length; i++) {\n        inline_js[i].call(root, root.Bokeh);\n      }if (force === true) {\n        display_loaded();\n      }} else if (Date.now() < root._bokeh_timeout) {\n      setTimeout(run_inline_js, 100);\n    } else if (!root._bokeh_failed_load) {\n      console.log(\"Bokeh: BokehJS failed to load within specified timeout.\");\n      root._bokeh_failed_load = true;\n    } else if (force !== true) {\n      var cell = $(document.getElementById(\"1001\")).parents('.cell').data().cell;\n      cell.output_area.append_execute_result(NB_LOAD_WARNING)\n    }\n\n  }\n\n  if (root._bokeh_is_loading === 0) {\n    console.debug(\"Bokeh: BokehJS loaded, going straight to plotting\");\n    run_inline_js();\n  } else {\n    load_libs(css_urls, js_urls, function() {\n      console.debug(\"Bokeh: BokehJS plotting callback run at\", now());\n      run_inline_js();\n    });\n  }\n}(window));"
     },
     "metadata": {},
     "output_type": "display_data"
    }
   ],
   "source": [
    "from bokeh.io import output_notebook, show\n",
    "from bokeh.plotting import figure\n",
    "\n",
    "output_notebook()"
   ]
  },
  {
   "cell_type": "code",
   "execution_count": 15,
   "metadata": {
    "scrolled": false,
    "slideshow": {
     "slide_type": "subslide"
    }
   },
   "outputs": [
    {
     "data": {
      "text/html": [
       "\n",
       "\n",
       "\n",
       "\n",
       "\n",
       "\n",
       "  <div class=\"bk-root\" id=\"d68a2db2-0297-4940-8fee-45a220b2a496\" data-root-id=\"1002\"></div>\n"
      ]
     },
     "metadata": {},
     "output_type": "display_data"
    },
    {
     "data": {
      "application/javascript": [
       "(function(root) {\n",
       "  function embed_document(root) {\n",
       "    \n",
       "  var docs_json = {\"bf2c7bc6-279a-44bf-bcf0-56fa7ef5e5b0\":{\"roots\":{\"references\":[{\"attributes\":{\"below\":[{\"id\":\"1011\",\"type\":\"LinearAxis\"}],\"center\":[{\"id\":\"1015\",\"type\":\"Grid\"},{\"id\":\"1020\",\"type\":\"Grid\"}],\"left\":[{\"id\":\"1016\",\"type\":\"LinearAxis\"}],\"plot_height\":400,\"plot_width\":400,\"renderers\":[{\"id\":\"1037\",\"type\":\"GlyphRenderer\"}],\"title\":{\"id\":\"1040\",\"type\":\"Title\"},\"toolbar\":{\"id\":\"1027\",\"type\":\"Toolbar\"},\"x_range\":{\"id\":\"1003\",\"type\":\"DataRange1d\"},\"x_scale\":{\"id\":\"1007\",\"type\":\"LinearScale\"},\"y_range\":{\"id\":\"1005\",\"type\":\"DataRange1d\"},\"y_scale\":{\"id\":\"1009\",\"type\":\"LinearScale\"}},\"id\":\"1002\",\"subtype\":\"Figure\",\"type\":\"Plot\"},{\"attributes\":{},\"id\":\"1047\",\"type\":\"Selection\"},{\"attributes\":{\"data_source\":{\"id\":\"1034\",\"type\":\"ColumnDataSource\"},\"glyph\":{\"id\":\"1035\",\"type\":\"Circle\"},\"hover_glyph\":null,\"muted_glyph\":null,\"nonselection_glyph\":{\"id\":\"1036\",\"type\":\"Circle\"},\"selection_glyph\":null,\"view\":{\"id\":\"1038\",\"type\":\"CDSView\"}},\"id\":\"1037\",\"type\":\"GlyphRenderer\"},{\"attributes\":{},\"id\":\"1021\",\"type\":\"PanTool\"},{\"attributes\":{},\"id\":\"1022\",\"type\":\"WheelZoomTool\"},{\"attributes\":{\"overlay\":{\"id\":\"1045\",\"type\":\"BoxAnnotation\"}},\"id\":\"1023\",\"type\":\"BoxZoomTool\"},{\"attributes\":{\"bottom_units\":\"screen\",\"fill_alpha\":{\"value\":0.5},\"fill_color\":{\"value\":\"lightgrey\"},\"left_units\":\"screen\",\"level\":\"overlay\",\"line_alpha\":{\"value\":1.0},\"line_color\":{\"value\":\"black\"},\"line_dash\":[4,4],\"line_width\":{\"value\":2},\"render_mode\":\"css\",\"right_units\":\"screen\",\"top_units\":\"screen\"},\"id\":\"1045\",\"type\":\"BoxAnnotation\"},{\"attributes\":{},\"id\":\"1024\",\"type\":\"SaveTool\"},{\"attributes\":{},\"id\":\"1025\",\"type\":\"ResetTool\"},{\"attributes\":{\"callback\":null,\"data\":{\"fill_color\":[\"red\",\"green\",\"green\",\"green\",\"red\",\"red\",\"red\",\"green\",\"green\",\"green\",\"green\",\"red\",\"red\",\"red\",\"green\",\"red\",\"red\",\"red\",\"green\",\"green\",\"green\",\"red\",\"green\",\"red\",\"red\",\"red\",\"red\",\"red\",\"red\",\"red\",\"green\",\"red\",\"red\",\"green\",\"green\",\"red\",\"red\",\"red\",\"green\",\"green\",\"red\",\"green\",\"red\",\"green\",\"red\",\"red\",\"green\",\"red\",\"red\",\"green\",\"red\",\"green\",\"red\",\"red\",\"red\",\"red\",\"red\",\"green\",\"red\",\"green\",\"green\",\"red\",\"green\",\"red\",\"green\",\"green\",\"red\",\"green\",\"red\",\"red\",\"red\",\"red\",\"red\",\"red\",\"red\",\"green\",\"green\",\"red\",\"red\",\"red\",\"red\",\"red\",\"red\",\"green\",\"red\",\"red\",\"red\",\"red\",\"red\",\"red\",\"red\",\"red\",\"red\",\"red\",\"red\",\"red\",\"red\",\"green\",\"red\",\"green\",\"green\",\"red\",\"red\",\"red\",\"red\",\"green\",\"red\",\"red\",\"green\",\"red\",\"red\",\"red\",\"green\",\"green\",\"red\",\"red\",\"red\",\"green\",\"red\",\"red\",\"red\",\"red\",\"green\",\"red\",\"red\",\"red\",\"green\",\"red\",\"red\",\"green\",\"red\",\"red\",\"red\",\"green\",\"red\",\"red\",\"red\",\"red\",\"green\",\"red\",\"red\",\"red\",\"red\",\"red\",\"red\",\"red\",\"green\",\"green\",\"green\",\"red\",\"red\",\"green\",\"red\",\"green\",\"green\",\"green\",\"green\",\"red\",\"red\",\"red\",\"red\",\"red\",\"green\",\"red\",\"red\",\"green\",\"green\",\"green\",\"red\",\"green\",\"red\",\"red\",\"green\",\"green\",\"red\",\"green\",\"red\",\"green\",\"red\",\"red\",\"green\",\"red\",\"green\",\"red\",\"red\",\"green\",\"red\",\"red\",\"green\",\"red\",\"red\",\"green\",\"red\",\"red\",\"red\",\"red\",\"red\",\"red\",\"red\",\"green\",\"green\",\"red\",\"red\",\"red\",\"red\",\"red\",\"green\",\"green\",\"green\",\"green\",\"green\",\"red\",\"red\",\"red\",\"red\",\"green\",\"green\",\"green\",\"green\",\"green\",\"red\",\"green\",\"red\",\"red\",\"green\",\"red\",\"red\",\"red\",\"green\",\"red\",\"green\",\"red\",\"green\",\"green\",\"green\",\"green\",\"red\",\"red\",\"red\",\"red\",\"red\",\"green\",\"red\",\"green\",\"green\",\"red\",\"green\",\"green\",\"green\",\"red\",\"red\",\"red\",\"green\",\"green\",\"red\",\"green\",\"green\",\"red\",\"red\",\"green\",\"green\",\"green\",\"red\",\"green\",\"green\",\"green\",\"red\",\"red\",\"red\",\"red\",\"green\",\"green\",\"red\",\"green\",\"green\",\"red\",\"red\",\"red\",\"green\",\"green\",\"green\",\"red\",\"red\",\"red\",\"red\",\"red\",\"green\",\"red\",\"red\",\"red\",\"red\",\"red\",\"red\",\"green\",\"green\",\"green\",\"red\",\"red\",\"red\",\"red\",\"green\",\"red\",\"red\",\"red\",\"green\",\"green\",\"red\",\"green\",\"red\",\"red\",\"green\",\"green\",\"green\",\"green\",\"red\",\"green\",\"green\",\"red\",\"red\",\"red\",\"red\",\"green\",\"green\",\"red\",\"red\",\"red\",\"red\",\"red\",\"red\",\"green\",\"red\",\"green\",\"green\",\"green\",\"green\",\"red\",\"red\",\"red\",\"red\",\"red\",\"red\",\"green\",\"green\",\"green\",\"green\",\"green\",\"red\",\"red\",\"green\",\"red\",\"green\",\"red\",\"red\",\"green\",\"red\",\"red\",\"green\",\"green\",\"green\",\"green\",\"green\",\"green\",\"red\",\"red\",\"green\",\"green\",\"red\",\"green\",\"green\",\"red\",\"red\",\"red\",\"red\",\"red\",\"green\",\"red\",\"green\",\"green\",\"red\",\"red\",\"red\",\"red\",\"green\",\"red\",\"red\",\"green\",\"green\",\"green\",\"red\",\"red\",\"green\",\"red\",\"red\",\"red\",\"red\",\"green\",\"red\",\"red\",\"red\",\"red\",\"red\",\"green\",\"red\",\"green\",\"red\",\"green\",\"green\",\"green\",\"green\",\"red\",\"red\",\"green\",\"green\",\"red\",\"green\",\"red\",\"green\",\"red\",\"green\",\"red\",\"red\",\"green\",\"red\",\"red\",\"green\",\"red\",\"green\",\"green\",\"green\",\"red\",\"red\",\"green\",\"red\",\"red\",\"green\",\"red\",\"green\",\"green\",\"red\",\"green\",\"green\",\"red\",\"green\",\"green\",\"green\",\"red\",\"red\",\"red\",\"red\",\"red\",\"green\",\"green\",\"green\",\"green\",\"red\",\"red\",\"green\",\"green\",\"green\",\"green\",\"green\",\"red\",\"red\",\"green\",\"red\",\"green\",\"red\",\"red\",\"green\",\"red\",\"red\",\"red\",\"red\",\"green\",\"green\",\"red\",\"green\",\"red\",\"red\",\"green\",\"green\",\"green\",\"red\",\"red\",\"green\",\"red\",\"red\",\"green\",\"red\",\"red\",\"green\",\"green\",\"red\",\"red\",\"red\",\"red\",\"green\",\"red\",\"green\",\"red\",\"green\",\"red\",\"green\",\"red\",\"red\",\"red\",\"red\",\"green\",\"red\",\"green\",\"green\",\"red\",\"green\",\"green\",\"green\",\"red\",\"red\",\"red\",\"red\",\"red\",\"red\",\"green\",\"red\",\"red\",\"red\",\"green\",\"red\",\"red\",\"red\",\"green\",\"red\",\"red\",\"green\",\"red\",\"red\",\"green\",\"red\",\"green\",\"green\",\"red\",\"red\",\"red\",\"red\",\"red\",\"red\",\"red\",\"green\",\"green\",\"green\",\"red\",\"red\",\"red\",\"red\",\"red\",\"red\",\"green\",\"green\",\"red\",\"red\",\"red\",\"red\",\"green\",\"green\",\"green\",\"green\",\"green\",\"red\",\"red\",\"red\",\"green\",\"green\",\"red\",\"green\",\"red\",\"red\",\"red\",\"green\",\"red\",\"green\",\"red\",\"red\",\"green\",\"red\",\"red\",\"red\",\"red\",\"red\",\"green\",\"red\",\"green\",\"red\",\"green\",\"red\",\"red\",\"green\",\"red\",\"red\",\"green\",\"green\",\"red\",\"red\",\"green\",\"green\",\"red\",\"red\",\"red\",\"green\",\"red\",\"green\",\"green\",\"red\",\"green\",\"red\",\"red\",\"red\",\"red\",\"red\",\"green\",\"red\",\"green\",\"green\",\"green\",\"green\",\"red\",\"red\",\"red\",\"green\",\"red\",\"green\",\"red\",\"red\",\"red\",\"red\",\"green\",\"green\",\"red\",\"red\",\"red\",\"green\",\"green\",\"green\",\"green\",\"red\",\"red\",\"red\",\"red\",\"green\",\"red\",\"red\",\"red\",\"red\",\"red\",\"red\",\"red\",\"red\",\"red\",\"green\",\"green\",\"red\",\"green\",\"red\",\"green\",\"green\",\"green\",\"green\",\"red\",\"red\",\"green\",\"red\",\"green\",\"red\",\"red\",\"green\",\"red\",\"red\",\"red\",\"red\",\"red\",\"red\",\"red\",\"red\",\"green\",\"red\",\"green\",\"green\",\"green\",\"green\",\"red\",\"red\",\"green\",\"red\",\"green\",\"green\",\"red\",\"green\",\"red\",\"green\",\"red\",\"red\",\"green\",\"green\",\"red\",\"red\",\"green\",\"green\",\"red\",\"red\",\"red\",\"red\",\"red\",\"red\",\"green\",\"green\",\"red\"],\"line_color\":[\"red\",\"green\",\"green\",\"green\",\"red\",\"red\",\"red\",\"green\",\"green\",\"green\",\"green\",\"red\",\"red\",\"red\",\"green\",\"red\",\"red\",\"red\",\"green\",\"green\",\"green\",\"red\",\"green\",\"red\",\"red\",\"red\",\"red\",\"red\",\"red\",\"red\",\"green\",\"red\",\"red\",\"green\",\"green\",\"red\",\"red\",\"red\",\"green\",\"green\",\"red\",\"green\",\"red\",\"green\",\"red\",\"red\",\"green\",\"red\",\"red\",\"green\",\"red\",\"green\",\"red\",\"red\",\"red\",\"red\",\"red\",\"green\",\"red\",\"green\",\"green\",\"red\",\"green\",\"red\",\"green\",\"green\",\"red\",\"green\",\"red\",\"red\",\"red\",\"red\",\"red\",\"red\",\"red\",\"green\",\"green\",\"red\",\"red\",\"red\",\"red\",\"red\",\"red\",\"green\",\"red\",\"red\",\"red\",\"red\",\"red\",\"red\",\"red\",\"red\",\"red\",\"red\",\"red\",\"red\",\"red\",\"green\",\"red\",\"green\",\"green\",\"red\",\"red\",\"red\",\"red\",\"green\",\"red\",\"red\",\"green\",\"red\",\"red\",\"red\",\"green\",\"green\",\"red\",\"red\",\"red\",\"green\",\"red\",\"red\",\"red\",\"red\",\"green\",\"red\",\"red\",\"red\",\"green\",\"red\",\"red\",\"green\",\"red\",\"red\",\"red\",\"green\",\"red\",\"red\",\"red\",\"red\",\"green\",\"red\",\"red\",\"red\",\"red\",\"red\",\"red\",\"red\",\"green\",\"green\",\"green\",\"red\",\"red\",\"green\",\"red\",\"green\",\"green\",\"green\",\"green\",\"red\",\"red\",\"red\",\"red\",\"red\",\"green\",\"red\",\"red\",\"green\",\"green\",\"green\",\"red\",\"green\",\"red\",\"red\",\"green\",\"green\",\"red\",\"green\",\"red\",\"green\",\"red\",\"red\",\"green\",\"red\",\"green\",\"red\",\"red\",\"green\",\"red\",\"red\",\"green\",\"red\",\"red\",\"green\",\"red\",\"red\",\"red\",\"red\",\"red\",\"red\",\"red\",\"green\",\"green\",\"red\",\"red\",\"red\",\"red\",\"red\",\"green\",\"green\",\"green\",\"green\",\"green\",\"red\",\"red\",\"red\",\"red\",\"green\",\"green\",\"green\",\"green\",\"green\",\"red\",\"green\",\"red\",\"red\",\"green\",\"red\",\"red\",\"red\",\"green\",\"red\",\"green\",\"red\",\"green\",\"green\",\"green\",\"green\",\"red\",\"red\",\"red\",\"red\",\"red\",\"green\",\"red\",\"green\",\"green\",\"red\",\"green\",\"green\",\"green\",\"red\",\"red\",\"red\",\"green\",\"green\",\"red\",\"green\",\"green\",\"red\",\"red\",\"green\",\"green\",\"green\",\"red\",\"green\",\"green\",\"green\",\"red\",\"red\",\"red\",\"red\",\"green\",\"green\",\"red\",\"green\",\"green\",\"red\",\"red\",\"red\",\"green\",\"green\",\"green\",\"red\",\"red\",\"red\",\"red\",\"red\",\"green\",\"red\",\"red\",\"red\",\"red\",\"red\",\"red\",\"green\",\"green\",\"green\",\"red\",\"red\",\"red\",\"red\",\"green\",\"red\",\"red\",\"red\",\"green\",\"green\",\"red\",\"green\",\"red\",\"red\",\"green\",\"green\",\"green\",\"green\",\"red\",\"green\",\"green\",\"red\",\"red\",\"red\",\"red\",\"green\",\"green\",\"red\",\"red\",\"red\",\"red\",\"red\",\"red\",\"green\",\"red\",\"green\",\"green\",\"green\",\"green\",\"red\",\"red\",\"red\",\"red\",\"red\",\"red\",\"green\",\"green\",\"green\",\"green\",\"green\",\"red\",\"red\",\"green\",\"red\",\"green\",\"red\",\"red\",\"green\",\"red\",\"red\",\"green\",\"green\",\"green\",\"green\",\"green\",\"green\",\"red\",\"red\",\"green\",\"green\",\"red\",\"green\",\"green\",\"red\",\"red\",\"red\",\"red\",\"red\",\"green\",\"red\",\"green\",\"green\",\"red\",\"red\",\"red\",\"red\",\"green\",\"red\",\"red\",\"green\",\"green\",\"green\",\"red\",\"red\",\"green\",\"red\",\"red\",\"red\",\"red\",\"green\",\"red\",\"red\",\"red\",\"red\",\"red\",\"green\",\"red\",\"green\",\"red\",\"green\",\"green\",\"green\",\"green\",\"red\",\"red\",\"green\",\"green\",\"red\",\"green\",\"red\",\"green\",\"red\",\"green\",\"red\",\"red\",\"green\",\"red\",\"red\",\"green\",\"red\",\"green\",\"green\",\"green\",\"red\",\"red\",\"green\",\"red\",\"red\",\"green\",\"red\",\"green\",\"green\",\"red\",\"green\",\"green\",\"red\",\"green\",\"green\",\"green\",\"red\",\"red\",\"red\",\"red\",\"red\",\"green\",\"green\",\"green\",\"green\",\"red\",\"red\",\"green\",\"green\",\"green\",\"green\",\"green\",\"red\",\"red\",\"green\",\"red\",\"green\",\"red\",\"red\",\"green\",\"red\",\"red\",\"red\",\"red\",\"green\",\"green\",\"red\",\"green\",\"red\",\"red\",\"green\",\"green\",\"green\",\"red\",\"red\",\"green\",\"red\",\"red\",\"green\",\"red\",\"red\",\"green\",\"green\",\"red\",\"red\",\"red\",\"red\",\"green\",\"red\",\"green\",\"red\",\"green\",\"red\",\"green\",\"red\",\"red\",\"red\",\"red\",\"green\",\"red\",\"green\",\"green\",\"red\",\"green\",\"green\",\"green\",\"red\",\"red\",\"red\",\"red\",\"red\",\"red\",\"green\",\"red\",\"red\",\"red\",\"green\",\"red\",\"red\",\"red\",\"green\",\"red\",\"red\",\"green\",\"red\",\"red\",\"green\",\"red\",\"green\",\"green\",\"red\",\"red\",\"red\",\"red\",\"red\",\"red\",\"red\",\"green\",\"green\",\"green\",\"red\",\"red\",\"red\",\"red\",\"red\",\"red\",\"green\",\"green\",\"red\",\"red\",\"red\",\"red\",\"green\",\"green\",\"green\",\"green\",\"green\",\"red\",\"red\",\"red\",\"green\",\"green\",\"red\",\"green\",\"red\",\"red\",\"red\",\"green\",\"red\",\"green\",\"red\",\"red\",\"green\",\"red\",\"red\",\"red\",\"red\",\"red\",\"green\",\"red\",\"green\",\"red\",\"green\",\"red\",\"red\",\"green\",\"red\",\"red\",\"green\",\"green\",\"red\",\"red\",\"green\",\"green\",\"red\",\"red\",\"red\",\"green\",\"red\",\"green\",\"green\",\"red\",\"green\",\"red\",\"red\",\"red\",\"red\",\"red\",\"green\",\"red\",\"green\",\"green\",\"green\",\"green\",\"red\",\"red\",\"red\",\"green\",\"red\",\"green\",\"red\",\"red\",\"red\",\"red\",\"green\",\"green\",\"red\",\"red\",\"red\",\"green\",\"green\",\"green\",\"green\",\"red\",\"red\",\"red\",\"red\",\"green\",\"red\",\"red\",\"red\",\"red\",\"red\",\"red\",\"red\",\"red\",\"red\",\"green\",\"green\",\"red\",\"green\",\"red\",\"green\",\"green\",\"green\",\"green\",\"red\",\"red\",\"green\",\"red\",\"green\",\"red\",\"red\",\"green\",\"red\",\"red\",\"red\",\"red\",\"red\",\"red\",\"red\",\"red\",\"green\",\"red\",\"green\",\"green\",\"green\",\"green\",\"red\",\"red\",\"green\",\"red\",\"green\",\"green\",\"red\",\"green\",\"red\",\"green\",\"red\",\"red\",\"green\",\"green\",\"red\",\"red\",\"green\",\"green\",\"red\",\"red\",\"red\",\"red\",\"red\",\"red\",\"green\",\"green\",\"red\"],\"x\":{\"__ndarray__\":\"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\",\"dtype\":\"float64\",\"shape\":[714]},\"y\":{\"__ndarray__\":\"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\",\"dtype\":\"float64\",\"shape\":[714]}},\"selected\":{\"id\":\"1047\",\"type\":\"Selection\"},\"selection_policy\":{\"id\":\"1046\",\"type\":\"UnionRenderers\"}},\"id\":\"1034\",\"type\":\"ColumnDataSource\"},{\"attributes\":{},\"id\":\"1026\",\"type\":\"HelpTool\"},{\"attributes\":{\"callback\":null},\"id\":\"1003\",\"type\":\"DataRange1d\"},{\"attributes\":{\"active_drag\":\"auto\",\"active_inspect\":\"auto\",\"active_multi\":null,\"active_scroll\":\"auto\",\"active_tap\":\"auto\",\"tools\":[{\"id\":\"1021\",\"type\":\"PanTool\"},{\"id\":\"1022\",\"type\":\"WheelZoomTool\"},{\"id\":\"1023\",\"type\":\"BoxZoomTool\"},{\"id\":\"1024\",\"type\":\"SaveTool\"},{\"id\":\"1025\",\"type\":\"ResetTool\"},{\"id\":\"1026\",\"type\":\"HelpTool\"}]},\"id\":\"1027\",\"type\":\"Toolbar\"},{\"attributes\":{\"callback\":null},\"id\":\"1005\",\"type\":\"DataRange1d\"},{\"attributes\":{\"text\":\"\"},\"id\":\"1040\",\"type\":\"Title\"},{\"attributes\":{},\"id\":\"1007\",\"type\":\"LinearScale\"},{\"attributes\":{\"fill_alpha\":{\"value\":0.5},\"fill_color\":{\"field\":\"fill_color\"},\"line_alpha\":{\"value\":0.5},\"line_color\":{\"field\":\"line_color\"},\"size\":{\"units\":\"screen\",\"value\":5},\"x\":{\"field\":\"x\"},\"y\":{\"field\":\"y\"}},\"id\":\"1035\",\"type\":\"Circle\"},{\"attributes\":{},\"id\":\"1009\",\"type\":\"LinearScale\"},{\"attributes\":{\"formatter\":{\"id\":\"1042\",\"type\":\"BasicTickFormatter\"},\"ticker\":{\"id\":\"1012\",\"type\":\"BasicTicker\"}},\"id\":\"1011\",\"type\":\"LinearAxis\"},{\"attributes\":{},\"id\":\"1046\",\"type\":\"UnionRenderers\"},{\"attributes\":{\"fill_alpha\":{\"value\":0.1},\"fill_color\":{\"value\":\"#1f77b4\"},\"line_alpha\":{\"value\":0.1},\"line_color\":{\"value\":\"#1f77b4\"},\"size\":{\"units\":\"screen\",\"value\":5},\"x\":{\"field\":\"x\"},\"y\":{\"field\":\"y\"}},\"id\":\"1036\",\"type\":\"Circle\"},{\"attributes\":{},\"id\":\"1012\",\"type\":\"BasicTicker\"},{\"attributes\":{\"source\":{\"id\":\"1034\",\"type\":\"ColumnDataSource\"}},\"id\":\"1038\",\"type\":\"CDSView\"},{\"attributes\":{\"ticker\":{\"id\":\"1012\",\"type\":\"BasicTicker\"}},\"id\":\"1015\",\"type\":\"Grid\"},{\"attributes\":{\"formatter\":{\"id\":\"1044\",\"type\":\"BasicTickFormatter\"},\"ticker\":{\"id\":\"1017\",\"type\":\"BasicTicker\"}},\"id\":\"1016\",\"type\":\"LinearAxis\"},{\"attributes\":{},\"id\":\"1042\",\"type\":\"BasicTickFormatter\"},{\"attributes\":{},\"id\":\"1017\",\"type\":\"BasicTicker\"},{\"attributes\":{},\"id\":\"1044\",\"type\":\"BasicTickFormatter\"},{\"attributes\":{\"dimension\":1,\"ticker\":{\"id\":\"1017\",\"type\":\"BasicTicker\"}},\"id\":\"1020\",\"type\":\"Grid\"}],\"root_ids\":[\"1002\"]},\"title\":\"Bokeh Application\",\"version\":\"1.2.0\"}};\n",
       "  var render_items = [{\"docid\":\"bf2c7bc6-279a-44bf-bcf0-56fa7ef5e5b0\",\"roots\":{\"1002\":\"d68a2db2-0297-4940-8fee-45a220b2a496\"}}];\n",
       "  root.Bokeh.embed.embed_items_notebook(docs_json, render_items);\n",
       "\n",
       "  }\n",
       "  if (root.Bokeh !== undefined) {\n",
       "    embed_document(root);\n",
       "  } else {\n",
       "    var attempts = 0;\n",
       "    var timer = setInterval(function(root) {\n",
       "      if (root.Bokeh !== undefined) {\n",
       "        embed_document(root);\n",
       "        clearInterval(timer);\n",
       "      }\n",
       "      attempts++;\n",
       "      if (attempts > 100) {\n",
       "        console.log(\"Bokeh: ERROR: Unable to run BokehJS code because BokehJS library is missing\");\n",
       "        clearInterval(timer);\n",
       "      }\n",
       "    }, 10, root)\n",
       "  }\n",
       "})(window);"
      ],
      "application/vnd.bokehjs_exec.v0+json": ""
     },
     "metadata": {
      "application/vnd.bokehjs_exec.v0+json": {
       "id": "1002"
      }
     },
     "output_type": "display_data"
    }
   ],
   "source": [
    "p = figure(plot_width=400, plot_height=400)\n",
    "\n",
    "colors = ['green' if row.Survived else 'red' for index, row in passengers.iterrows()]\n",
    "\n",
    "p.circle(passengers.Age, passengers.Fare, size=5, color=colors, alpha=0.5)\n",
    "\n",
    "show(p)"
   ]
  },
  {
   "cell_type": "markdown",
   "metadata": {
    "slideshow": {
     "slide_type": "subslide"
    }
   },
   "source": [
    "Muchísimo más!\n",
    "\n",
    "[Galería](https://bokeh.pydata.org/en/latest/docs/gallery.html)"
   ]
  },
  {
   "cell_type": "markdown",
   "metadata": {
    "slideshow": {
     "slide_type": "subslide"
    }
   },
   "source": [
    "## Modelos predictivos (Machine Learning)\n"
   ]
  },
  {
   "cell_type": "markdown",
   "metadata": {
    "slideshow": {
     "slide_type": "fragment"
    }
   },
   "source": [
    "- [Scikit Learn](https://scikit-learn.org/): el estándar. Muchísimos tipos de modelos, y utilidades alrededor."
   ]
  },
  {
   "cell_type": "markdown",
   "metadata": {
    "slideshow": {
     "slide_type": "fragment"
    }
   },
   "source": [
    "- [Keras](https://keras.io/) y [Pytorch](https://pytorch.org/) (alternativas): redes neuronales. Muchísimas utilidades y tipos de redes. Pueden correr en GPU!! (nvidia)"
   ]
  },
  {
   "cell_type": "markdown",
   "metadata": {
    "slideshow": {
     "slide_type": "fragment"
    }
   },
   "source": [
    "- [TensorFlow](https://www.tensorflow.org/): para construir modelos desde cero, que pueden correr en GPU. Keras usa TensorFlow por dentro."
   ]
  },
  {
   "cell_type": "code",
   "execution_count": 16,
   "metadata": {
    "slideshow": {
     "slide_type": "subslide"
    }
   },
   "outputs": [],
   "source": [
    "from sklearn.tree import DecisionTreeClassifier\n",
    "\n",
    "arbol = DecisionTreeClassifier()"
   ]
  },
  {
   "cell_type": "code",
   "execution_count": 17,
   "metadata": {
    "scrolled": false,
    "slideshow": {
     "slide_type": "fragment"
    }
   },
   "outputs": [],
   "source": [
    "inputs = passengers[['Age', 'Fare', 'Pclass']]\n",
    "outputs = passengers.Survived\n",
    "\n",
    "arbol.fit(inputs, outputs);"
   ]
  },
  {
   "cell_type": "code",
   "execution_count": 18,
   "metadata": {
    "slideshow": {
     "slide_type": "subslide"
    }
   },
   "outputs": [
    {
     "data": {
      "text/plain": [
       "array([0, 1, 1])"
      ]
     },
     "execution_count": 18,
     "metadata": {},
     "output_type": "execute_result"
    }
   ],
   "source": [
    "arbol.predict([\n",
    "    # edad, precio pasaje, clase\n",
    "    [20, 8, 3], \n",
    "    [40, 250, 1],\n",
    "    [10, 200, 2],\n",
    "])"
   ]
  },
  {
   "cell_type": "code",
   "execution_count": 19,
   "metadata": {
    "scrolled": false,
    "slideshow": {
     "slide_type": "subslide"
    }
   },
   "outputs": [
    {
     "data": {
      "text/plain": [
       "0.9705882352941176"
      ]
     },
     "execution_count": 19,
     "metadata": {},
     "output_type": "execute_result"
    }
   ],
   "source": [
    "from sklearn.metrics import accuracy_score, recall_score, precision_score\n",
    "\n",
    "predictions = arbol.predict(inputs)\n",
    "\n",
    "accuracy_score(outputs, predictions)"
   ]
  },
  {
   "cell_type": "markdown",
   "metadata": {
    "slideshow": {
     "slide_type": "subslide"
    }
   },
   "source": [
    "Muchísimo más!\n",
    "\n",
    "- Modelos de regresión, clasificación, clustering, reducción de dimensionalidad\n",
    "- Herramientas de preprocesado, evaluación, optimización de hiperparámetros, encadenamiento de pasos, etc\n",
    "- [Comparación de clasificadores](https://scikit-learn.org/stable/auto_examples/classification/plot_classifier_comparison.html)"
   ]
  },
  {
   "cell_type": "code",
   "execution_count": 20,
   "metadata": {
    "slideshow": {
     "slide_type": "subslide"
    }
   },
   "outputs": [
    {
     "name": "stderr",
     "output_type": "stream",
     "text": [
      "Using TensorFlow backend.\n"
     ]
    }
   ],
   "source": [
    "from keras.models import Sequential\n",
    "from keras.layers import Dense\n",
    "\n",
    "red = Sequential([\n",
    "    Dense(50, activation='relu', input_shape=(3, )),\n",
    "    Dense(50, activation='relu'),\n",
    "    Dense(50, activation='relu'),\n",
    "    Dense(1, activation='sigmoid'),\n",
    "])\n",
    "\n",
    "red.compile(\n",
    "    loss='binary_crossentropy',\n",
    "    optimizer='adam',\n",
    "    metrics=['accuracy'],\n",
    ")"
   ]
  },
  {
   "cell_type": "code",
   "execution_count": 21,
   "metadata": {
    "scrolled": true,
    "slideshow": {
     "slide_type": "subslide"
    }
   },
   "outputs": [
    {
     "name": "stdout",
     "output_type": "stream",
     "text": [
      "Epoch 1/50\n",
      "714/714 [==============================] - 1s 916us/step - loss: 0.7316 - acc: 0.5966\n",
      "Epoch 2/50\n",
      "714/714 [==============================] - 0s 23us/step - loss: 0.6612 - acc: 0.6793\n",
      "Epoch 3/50\n",
      "714/714 [==============================] - 0s 34us/step - loss: 0.6194 - acc: 0.6905\n",
      "Epoch 4/50\n",
      "714/714 [==============================] - 0s 27us/step - loss: 0.6179 - acc: 0.6835\n",
      "Epoch 5/50\n",
      "714/714 [==============================] - 0s 26us/step - loss: 0.6065 - acc: 0.6947\n",
      "Epoch 6/50\n",
      "714/714 [==============================] - 0s 20us/step - loss: 0.6097 - acc: 0.6849\n",
      "Epoch 7/50\n",
      "714/714 [==============================] - 0s 24us/step - loss: 0.6124 - acc: 0.6863\n",
      "Epoch 8/50\n",
      "714/714 [==============================] - 0s 20us/step - loss: 0.6135 - acc: 0.6849\n",
      "Epoch 9/50\n",
      "714/714 [==============================] - 0s 21us/step - loss: 0.6052 - acc: 0.6919\n",
      "Epoch 10/50\n",
      "714/714 [==============================] - 0s 21us/step - loss: 0.6135 - acc: 0.6905\n",
      "Epoch 11/50\n",
      "714/714 [==============================] - 0s 22us/step - loss: 0.6017 - acc: 0.6905\n",
      "Epoch 12/50\n",
      "714/714 [==============================] - 0s 19us/step - loss: 0.6174 - acc: 0.6975\n",
      "Epoch 13/50\n",
      "714/714 [==============================] - 0s 21us/step - loss: 0.6169 - acc: 0.6625\n",
      "Epoch 14/50\n",
      "714/714 [==============================] - 0s 18us/step - loss: 0.5978 - acc: 0.6891\n",
      "Epoch 15/50\n",
      "714/714 [==============================] - 0s 19us/step - loss: 0.6009 - acc: 0.6877\n",
      "Epoch 16/50\n",
      "714/714 [==============================] - 0s 22us/step - loss: 0.6072 - acc: 0.6905\n",
      "Epoch 17/50\n",
      "714/714 [==============================] - 0s 24us/step - loss: 0.5998 - acc: 0.6933\n",
      "Epoch 18/50\n",
      "714/714 [==============================] - 0s 24us/step - loss: 0.6065 - acc: 0.6877\n",
      "Epoch 19/50\n",
      "714/714 [==============================] - 0s 25us/step - loss: 0.6023 - acc: 0.6919\n",
      "Epoch 20/50\n",
      "714/714 [==============================] - 0s 25us/step - loss: 0.5974 - acc: 0.6989\n",
      "Epoch 21/50\n",
      "714/714 [==============================] - 0s 26us/step - loss: 0.5972 - acc: 0.6919\n",
      "Epoch 22/50\n",
      "714/714 [==============================] - 0s 25us/step - loss: 0.6014 - acc: 0.6863\n",
      "Epoch 23/50\n",
      "714/714 [==============================] - 0s 22us/step - loss: 0.5975 - acc: 0.6877\n",
      "Epoch 24/50\n",
      "714/714 [==============================] - 0s 23us/step - loss: 0.6150 - acc: 0.6751\n",
      "Epoch 25/50\n",
      "714/714 [==============================] - 0s 22us/step - loss: 0.6150 - acc: 0.6835\n",
      "Epoch 26/50\n",
      "714/714 [==============================] - 0s 24us/step - loss: 0.6217 - acc: 0.6625\n",
      "Epoch 27/50\n",
      "714/714 [==============================] - 0s 24us/step - loss: 0.5950 - acc: 0.6947\n",
      "Epoch 28/50\n",
      "714/714 [==============================] - 0s 23us/step - loss: 0.5948 - acc: 0.6905\n",
      "Epoch 29/50\n",
      "714/714 [==============================] - 0s 23us/step - loss: 0.6116 - acc: 0.6681\n",
      "Epoch 30/50\n",
      "714/714 [==============================] - 0s 22us/step - loss: 0.5988 - acc: 0.6919\n",
      "Epoch 31/50\n",
      "714/714 [==============================] - 0s 25us/step - loss: 0.5935 - acc: 0.6933\n",
      "Epoch 32/50\n",
      "714/714 [==============================] - 0s 23us/step - loss: 0.5908 - acc: 0.6975\n",
      "Epoch 33/50\n",
      "714/714 [==============================] - 0s 24us/step - loss: 0.5895 - acc: 0.7031\n",
      "Epoch 34/50\n",
      "714/714 [==============================] - 0s 25us/step - loss: 0.5908 - acc: 0.6989\n",
      "Epoch 35/50\n",
      "714/714 [==============================] - 0s 22us/step - loss: 0.5960 - acc: 0.7031\n",
      "Epoch 36/50\n",
      "714/714 [==============================] - 0s 19us/step - loss: 0.5916 - acc: 0.6933\n",
      "Epoch 37/50\n",
      "714/714 [==============================] - 0s 21us/step - loss: 0.6191 - acc: 0.6611\n",
      "Epoch 38/50\n",
      "714/714 [==============================] - 0s 20us/step - loss: 0.6031 - acc: 0.6975\n",
      "Epoch 39/50\n",
      "714/714 [==============================] - 0s 20us/step - loss: 0.5923 - acc: 0.6947\n",
      "Epoch 40/50\n",
      "714/714 [==============================] - 0s 21us/step - loss: 0.6020 - acc: 0.7059\n",
      "Epoch 41/50\n",
      "714/714 [==============================] - 0s 22us/step - loss: 0.5934 - acc: 0.6905\n",
      "Epoch 42/50\n",
      "714/714 [==============================] - 0s 22us/step - loss: 0.6039 - acc: 0.6947\n",
      "Epoch 43/50\n",
      "714/714 [==============================] - 0s 21us/step - loss: 0.5967 - acc: 0.7073\n",
      "Epoch 44/50\n",
      "714/714 [==============================] - 0s 21us/step - loss: 0.6271 - acc: 0.6779\n",
      "Epoch 45/50\n",
      "714/714 [==============================] - ETA: 0s - loss: 0.5106 - acc: 0.780 - 0s 19us/step - loss: 0.6200 - acc: 0.6835\n",
      "Epoch 46/50\n",
      "714/714 [==============================] - 0s 21us/step - loss: 0.5878 - acc: 0.6919\n",
      "Epoch 47/50\n",
      "714/714 [==============================] - 0s 19us/step - loss: 0.5936 - acc: 0.6891\n",
      "Epoch 48/50\n",
      "714/714 [==============================] - 0s 18us/step - loss: 0.5979 - acc: 0.6905\n",
      "Epoch 49/50\n",
      "714/714 [==============================] - 0s 19us/step - loss: 0.5929 - acc: 0.7045\n",
      "Epoch 50/50\n",
      "714/714 [==============================] - 0s 19us/step - loss: 0.5899 - acc: 0.7073\n"
     ]
    },
    {
     "data": {
      "text/plain": [
       "<keras.callbacks.History at 0x7f18d064ada0>"
      ]
     },
     "execution_count": 21,
     "metadata": {},
     "output_type": "execute_result"
    }
   ],
   "source": [
    "red.fit(\n",
    "    inputs, outputs,\n",
    "    batch_size=100,\n",
    "    epochs=50,\n",
    ")"
   ]
  },
  {
   "cell_type": "code",
   "execution_count": 22,
   "metadata": {
    "scrolled": false,
    "slideshow": {
     "slide_type": "subslide"
    }
   },
   "outputs": [
    {
     "data": {
      "text/plain": [
       "0.711484593837535"
      ]
     },
     "execution_count": 22,
     "metadata": {},
     "output_type": "execute_result"
    }
   ],
   "source": [
    "predictions = red.predict(inputs)\n",
    "\n",
    "accuracy_score(outputs, np.rint(predictions))"
   ]
  },
  {
   "cell_type": "markdown",
   "metadata": {
    "slideshow": {
     "slide_type": "subslide"
    }
   },
   "source": [
    "Muchísimo más!\n",
    "\n",
    "Distintos tipos de redes, arquitecturas y capas, optimizadores, métricas, herramientas de generación de datos, etc."
   ]
  },
  {
   "cell_type": "markdown",
   "metadata": {
    "slideshow": {
     "slide_type": "subslide"
    }
   },
   "source": [
    "## Otras libs importantes que no vemos"
   ]
  },
  {
   "cell_type": "markdown",
   "metadata": {
    "slideshow": {
     "slide_type": "fragment"
    }
   },
   "source": [
    "- [Scipy](https://docs.scipy.org/doc/): utilidades de cálculo científico (integración, interpolación, álgebra lineal, estadística, etc)"
   ]
  },
  {
   "cell_type": "markdown",
   "metadata": {
    "slideshow": {
     "slide_type": "fragment"
    }
   },
   "source": [
    "- [Sympy](https://www.sympy.org/en/index.html): utilidades de matemática simbólica"
   ]
  },
  {
   "cell_type": "markdown",
   "metadata": {
    "slideshow": {
     "slide_type": "subslide"
    }
   },
   "source": [
    "# Puesta en producción"
   ]
  },
  {
   "cell_type": "markdown",
   "metadata": {
    "slideshow": {
     "slide_type": "fragment"
    }
   },
   "source": [
    "Es Python! Nos beneficiamos de su ecosistema más general."
   ]
  },
  {
   "cell_type": "markdown",
   "metadata": {
    "slideshow": {
     "slide_type": "fragment"
    }
   },
   "source": [
    "Típicamente apis web: [Flask](http://flask.pocoo.org/) para apis simples y sin estado, [Django](https://www.djangoproject.com/) para sitios más complejos."
   ]
  },
  {
   "cell_type": "markdown",
   "metadata": {
    "slideshow": {
     "slide_type": "fragment"
    }
   },
   "source": [
    "Pero además todas las cosas de siempre: logging, virtualenvs, testing automatizado, bases de datos, consumo de apis externas, y un \"etc\" gigante."
   ]
  },
  {
   "cell_type": "markdown",
   "metadata": {
    "slideshow": {
     "slide_type": "slide"
    }
   },
   "source": [
    "# Resumiendo"
   ]
  },
  {
   "cell_type": "markdown",
   "metadata": {
    "slideshow": {
     "slide_type": "fragment"
    }
   },
   "source": [
    "Hay **muchas** herramientas, acá vimos solo lo más conocido. Pero prácticamente todas las necesidades de un proyecto de Data Science están cubiertas por el ecosistema. No reinventar, buscar siempre antes si no existe."
   ]
  },
  {
   "cell_type": "markdown",
   "metadata": {
    "slideshow": {
     "slide_type": "fragment"
    }
   },
   "source": [
    "En general la documentación es buena. Y la comunidad todavía mejor: mucha gente usando y mejorando las herramientas, y dispuesta a ayudar, dar charlas, etc."
   ]
  }
 ],
 "metadata": {
  "celltoolbar": "Slideshow",
  "kernelspec": {
   "display_name": "Python 3",
   "language": "python",
   "name": "python3"
  },
  "language_info": {
   "codemirror_mode": {
    "name": "ipython",
    "version": 3
   },
   "file_extension": ".py",
   "mimetype": "text/x-python",
   "name": "python",
   "nbconvert_exporter": "python",
   "pygments_lexer": "ipython3",
   "version": "3.7.3"
  }
 },
 "nbformat": 4,
 "nbformat_minor": 2
}
