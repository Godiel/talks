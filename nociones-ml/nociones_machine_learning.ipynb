{
 "metadata": {
  "celltoolbar": "Slideshow",
  "name": "",
  "signature": "sha256:771d39d3751c41fd44b5781029c454c30983f4407073db3b5ba6826dec2f8125"
 },
 "nbformat": 3,
 "nbformat_minor": 0,
 "worksheets": [
  {
   "cells": [
    {
     "cell_type": "markdown",
     "metadata": {
      "slideshow": {
       "slide_type": "slide"
      }
     },
     "source": [
      "Algunas nociones de Machine Learning\n",
      "====================================\n",
      "\n",
      "Juan Pedro Fisanotti"
     ]
    },
    {
     "cell_type": "markdown",
     "metadata": {
      "slideshow": {
       "slide_type": "slide"
      }
     },
     "source": [
      "Objetivo de la charla:\n",
      "======================"
     ]
    },
    {
     "cell_type": "markdown",
     "metadata": {
      "slideshow": {
       "slide_type": "fragment"
      }
     },
     "source": [
      "Entender de forma simple algunas cosas b\u00e1sicas que siempre van a ver dando vueltas en el mundo de Machine Learning, y que no se explican en los tutoriales de las herramientas.\n",
      "\n",
      "Son ideas sueltas, esta charla no tiene un hilo conductor."
     ]
    },
    {
     "cell_type": "markdown",
     "metadata": {
      "slideshow": {
       "slide_type": "subslide"
      }
     },
     "source": [
      "Cosas como: \n",
      "* \"qu\u00e9 es una hip\u00f3tesis? es lo mismo que un modelo?\"\n",
      "* \"qu\u00e9 son los par\u00e1metros de un modelo?\"\n",
      "* \"por qu\u00e9 tengo que regularizar (normalizar) mis datos?\"\n",
      "* \"c\u00f3mo detecto si tengo bias en mi modelo?\"\n",
      "\n",
      "... y unas cu\u00e1ntas m\u00e1s."
     ]
    },
    {
     "cell_type": "markdown",
     "metadata": {
      "slideshow": {
       "slide_type": "slide"
      }
     },
     "source": [
      "Idea de hip\u00f3tesis\n",
      "================="
     ]
    },
    {
     "cell_type": "markdown",
     "metadata": {
      "slideshow": {
       "slide_type": "subslide"
      }
     },
     "source": [
      "![](files/idea_hipotesis_1.svg)"
     ]
    },
    {
     "cell_type": "markdown",
     "metadata": {
      "slideshow": {
       "slide_type": "subslide"
      }
     },
     "source": [
      "![](files/idea_hipotesis_2.svg)"
     ]
    },
    {
     "cell_type": "markdown",
     "metadata": {
      "slideshow": {
       "slide_type": "subslide"
      }
     },
     "source": [
      "Es una funci\u00f3n **candidata** a ser la que buscamos para predecir las salidas. \n",
      "\n",
      "Los algoritmos van a probar **muchas** hip\u00f3tesis, y devolvernos la mejor que encuentren."
     ]
    },
    {
     "cell_type": "markdown",
     "metadata": {
      "slideshow": {
       "slide_type": "slide"
      }
     },
     "source": [
      "Idea de modelo\n",
      "=============="
     ]
    },
    {
     "cell_type": "markdown",
     "metadata": {
      "slideshow": {
       "slide_type": "subslide"
      }
     },
     "source": [
      "![](files/idea_modelo_1.svg)"
     ]
    },
    {
     "cell_type": "markdown",
     "metadata": {
      "slideshow": {
       "slide_type": "subslide"
      }
     },
     "source": [
      "![](files/idea_modelo_2.svg)"
     ]
    },
    {
     "cell_type": "markdown",
     "metadata": {
      "slideshow": {
       "slide_type": "subslide"
      }
     },
     "source": [
      "Es el tipo de funci\u00f3n, el **molde**, que vamos a utilizar para armar nuestras hip\u00f3tesis.\n",
      "\n",
      "Por lo general, un algoritmo espec\u00edfico de IA sabe trabajar con un tipo espec\u00edfico de funciones, o grupo de tipos similares."
     ]
    },
    {
     "cell_type": "markdown",
     "metadata": {
      "slideshow": {
       "slide_type": "slide"
      }
     },
     "source": [
      "Modelos param\u00e9tricos y no param\u00e9tricos\n",
      "======================================"
     ]
    },
    {
     "cell_type": "markdown",
     "metadata": {
      "slideshow": {
       "slide_type": "fragment"
      }
     },
     "source": [
      "Hablando mal y pronto:\n",
      "\n",
      "* **Modelo param\u00e9trico**: arma una f() con algunos par\u00e1metros, y eso **solo** basta para hacer predicciones.\n",
      "\n",
      "* **Modelo no param\u00e9trico**: tiene una f() que consulta los datos. Para predecir hace falta la f() **m\u00e1s** los datos."
     ]
    },
    {
     "cell_type": "markdown",
     "metadata": {
      "slideshow": {
       "slide_type": "subslide"
      }
     },
     "source": [
      "![](files/parametricos_vs_no_parametricos.svg)"
     ]
    },
    {
     "cell_type": "markdown",
     "metadata": {
      "slideshow": {
       "slide_type": "slide"
      }
     },
     "source": [
      "Funci\u00f3n de costo\n",
      "----------------"
     ]
    },
    {
     "cell_type": "markdown",
     "metadata": {
      "slideshow": {
       "slide_type": "subslide"
      }
     },
     "source": [
      "![](files/costo_1.svg)"
     ]
    },
    {
     "cell_type": "markdown",
     "metadata": {
      "slideshow": {
       "slide_type": "subslide"
      }
     },
     "source": [
      "![](files/costo_2.svg)"
     ]
    },
    {
     "cell_type": "markdown",
     "metadata": {
      "slideshow": {
       "slide_type": "subslide"
      }
     },
     "source": [
      "Es una **funci\u00f3n** que evaluamos usando cada hip\u00f3tesis, para medir qu\u00e9 tan buena es.\n",
      "\n",
      "Normalmente: error cuadr\u00e1tico o algo similar (o sea, mide la diferencia entre las salidas esperadas y las generadas por la hip\u00f3tesis)"
     ]
    },
    {
     "cell_type": "markdown",
     "metadata": {
      "slideshow": {
       "slide_type": "slide"
      }
     },
     "source": [
      "Descenso por el gradiente\n",
      "========================="
     ]
    },
    {
     "cell_type": "markdown",
     "metadata": {
      "slideshow": {
       "slide_type": "fragment"
      }
     },
     "source": [
      "Incluso para un modelo determinado, hay infinitas Hs. C\u00f3mo voy probando?"
     ]
    },
    {
     "cell_type": "markdown",
     "metadata": {
      "slideshow": {
       "slide_type": "subslide"
      }
     },
     "source": [
      "    paso = 0.05\n",
      "    parametro = 1 (o algo random)\n",
      "    \n",
      "    Loop:\n",
      "        h = construir_h(parametro)\n",
      "        c = costo(h)\n",
      "        \n",
      "        if c es aceptablemente chico:\n",
      "            return h\n",
      "        else:\n",
      "            t = tangente(costo en este valor de parametro)\n",
      "            parametro = paso * t"
     ]
    },
    {
     "cell_type": "markdown",
     "metadata": {
      "slideshow": {
       "slide_type": "subslide"
      }
     },
     "source": [
      "![](files/gradiente.svg)"
     ]
    },
    {
     "cell_type": "markdown",
     "metadata": {
      "slideshow": {
       "slide_type": "subslide"
      }
     },
     "source": [
      "Va alterando los **par\u00e1metros** en la direcci\u00f3n que haga **descender** a la funci\u00f3n de costo.\n",
      "\n",
      "Tiene sus problemas y dificultades (ej: m\u00ednimos locales, o saber setear el paso)"
     ]
    },
    {
     "cell_type": "markdown",
     "metadata": {
      "slideshow": {
       "slide_type": "slide"
      }
     },
     "source": [
      "Normalizaci\u00f3n\n",
      "============="
     ]
    },
    {
     "cell_type": "markdown",
     "metadata": {
      "slideshow": {
       "slide_type": "subslide"
      }
     },
     "source": [
      "![](files/normalizacion_1.svg)"
     ]
    },
    {
     "cell_type": "markdown",
     "metadata": {
      "slideshow": {
       "slide_type": "subslide"
      }
     },
     "source": [
      "![](files/normalizacion_2.svg)"
     ]
    },
    {
     "cell_type": "markdown",
     "metadata": {
      "slideshow": {
       "slide_type": "subslide"
      }
     },
     "source": [
      "Problema: sueldo se *come* los resultados de las Hs."
     ]
    },
    {
     "cell_type": "markdown",
     "metadata": {
      "slideshow": {
       "slide_type": "fragment"
      }
     },
     "source": [
      "Soluci\u00f3n: normalizar los datos."
     ]
    },
    {
     "cell_type": "markdown",
     "metadata": {
      "slideshow": {
       "slide_type": "subslide"
      }
     },
     "source": [
      "![](files/normalizacion_3.svg)"
     ]
    },
    {
     "cell_type": "markdown",
     "metadata": {
      "slideshow": {
       "slide_type": "subslide"
      }
     },
     "source": [
      "Despu\u00e9s, siempre que queramos hacer una predicci\u00f3n con nuevos datos, hay que normalizarlos usando **el mismo** normalizador con el que normalizamos los datos de entrenamiento."
     ]
    },
    {
     "cell_type": "markdown",
     "metadata": {
      "slideshow": {
       "slide_type": "slide"
      }
     },
     "source": [
      "High bias y high variance (overfitting)\n",
      "======================================="
     ]
    },
    {
     "cell_type": "markdown",
     "metadata": {
      "slideshow": {
       "slide_type": "subslide"
      }
     },
     "source": [
      "High variance (overfitting)\n",
      "---------------------------\n",
      "\n",
      "Nuestra hip\u00f3tesis se est\u00e1 amoldando **demasiado** a los datos que usamos para generarla, y si le damos otros datos predice muy mal.\n",
      "\n",
      "Si le pedimos que prediga un ejemplo que usamos para entrenar, predice bien.\n",
      "\n",
      "Si le pedimos que prediga un ejemplo que **no** usamos para entrenar, predice mal."
     ]
    },
    {
     "cell_type": "markdown",
     "metadata": {
      "slideshow": {
       "slide_type": "subslide"
      }
     },
     "source": [
      "Para detectar el overfitting, tenemos un set de datos de entrenamiento, y otro **diferente** de test. Medimos costo en **ambos**, pero el algoritmo solo entrena con el primero."
     ]
    },
    {
     "cell_type": "markdown",
     "metadata": {
      "slideshow": {
       "slide_type": "fragment"
      }
     },
     "source": [
      "![](files/high_variance_1.svg)"
     ]
    },
    {
     "cell_type": "markdown",
     "metadata": {
      "slideshow": {
       "slide_type": "subslide"
      }
     },
     "source": [
      "Cuando hay overfitting, el costo en el set de **entrenamiento** es **bajo**, y el de **test** es **alto**.\n",
      "\n",
      "Dejamos de entrenar cuando el costo en **test** empiece a empeorar (**subir**)."
     ]
    },
    {
     "cell_type": "markdown",
     "metadata": {
      "slideshow": {
       "slide_type": "fragment"
      }
     },
     "source": [
      "![](files/high_variance_2.svg)"
     ]
    },
    {
     "cell_type": "markdown",
     "metadata": {
      "slideshow": {
       "slide_type": "subslide"
      }
     },
     "source": [
      "Si hay overfitting, sumar m\u00e1s datos **puede** ayudar a mejorar el costo (m\u00e1s dif\u00edcil ajustarse demasiado a datos m\u00e1s variados)."
     ]
    },
    {
     "cell_type": "markdown",
     "metadata": {
      "slideshow": {
       "slide_type": "subslide"
      }
     },
     "source": [
      "High bias\n",
      "---------\n",
      "\n",
      "Elegimos un modelo que **no** puede explicar bien nuestros datos. La funci\u00f3n real no se parece a las hip\u00f3tesis que probamos.\n",
      "\n",
      "Da malos resultados tanto en el set de test como en el de entrenamiento."
     ]
    },
    {
     "cell_type": "markdown",
     "metadata": {
      "slideshow": {
       "slide_type": "subslide"
      }
     },
     "source": [
      "![](files/high_bias.svg)"
     ]
    },
    {
     "cell_type": "markdown",
     "metadata": {
      "slideshow": {
       "slide_type": "subslide"
      }
     },
     "source": [
      "Sumar datos probablemente **no** vaya a ayudar a mejorar el costo.\n",
      "\n",
      "Hay que intentar con otro **modelo** diferente."
     ]
    },
    {
     "cell_type": "markdown",
     "metadata": {
      "slideshow": {
       "slide_type": "slide"
      }
     },
     "source": [
      "High bias y high variance respecto a la cantidad de datos\n",
      "=========================================================\n",
      "\n",
      "Es bueno entender c\u00f3mo se ven estos problemas en un gr\u00e1fico de costo vs cantidad de datos usados."
     ]
    },
    {
     "cell_type": "markdown",
     "metadata": {
      "slideshow": {
       "slide_type": "subslide"
      }
     },
     "source": [
      "![](files/costo_vs_cantidad_datos_ideal.svg)"
     ]
    },
    {
     "cell_type": "markdown",
     "metadata": {
      "slideshow": {
       "slide_type": "subslide"
      }
     },
     "source": [
      "![](files/costo_vs_cantidad_datos_high_variance.svg)"
     ]
    },
    {
     "cell_type": "markdown",
     "metadata": {
      "slideshow": {
       "slide_type": "subslide"
      }
     },
     "source": [
      "![](files/costo_vs_cantidad_datos_high_bias.svg)"
     ]
    },
    {
     "cell_type": "markdown",
     "metadata": {
      "slideshow": {
       "slide_type": "slide"
      }
     },
     "source": [
      "Accuracy vs Precission vs Recall\n",
      "================================\n",
      "\n",
      "(voy a usar palabras en ingl\u00e9s porque no me satisfacen las traducciones)"
     ]
    },
    {
     "cell_type": "markdown",
     "metadata": {
      "slideshow": {
       "slide_type": "subslide"
      }
     },
     "source": [
      "Accuracy\n",
      "--------\n",
      "\n",
      "Es el % de aciertos en las predicciones realizadas."
     ]
    },
    {
     "cell_type": "markdown",
     "metadata": {
      "slideshow": {
       "slide_type": "subslide"
      }
     },
     "source": [
      "Si **1%** de los mails son spam, y mi h() es la siguiente:"
     ]
    },
    {
     "cell_type": "code",
     "collapsed": false,
     "input": [
      "def h(datos_mail):\n",
      "    return \"no es spam\"  "
     ],
     "language": "python",
     "metadata": {
      "slideshow": {
       "slide_type": "-"
      }
     },
     "outputs": [],
     "prompt_number": 1
    },
    {
     "cell_type": "markdown",
     "metadata": {
      "slideshow": {
       "slide_type": "-"
      }
     },
     "source": [
      "(Es decir, siempre predice que no es spam)\n",
      "    \n",
      "El 99% de las veces mi clasificador acierta, es genial!... o no?"
     ]
    },
    {
     "cell_type": "markdown",
     "metadata": {
      "slideshow": {
       "slide_type": "subslide"
      }
     },
     "source": [
      "Accuracy **no** es una buena medida cuando nuestras clases tienen cantidades muy dispares de datos.\n",
      "\n",
      "Para esos casos, usamos **precission** y **recall**."
     ]
    },
    {
     "cell_type": "markdown",
     "metadata": {
      "slideshow": {
       "slide_type": "subslide"
      }
     },
     "source": [
      "Precission\n",
      "----------\n",
      "\n",
      "De todos los mails en los cuales predije spam, qu\u00e9 porcentaje eran realmente spam?\n",
      "\n",
      "En el ejemplo: indefinido (nunca predije spam)."
     ]
    },
    {
     "cell_type": "markdown",
     "metadata": {
      "slideshow": {
       "slide_type": "fragment"
      }
     },
     "source": [
      "Recall\n",
      "------\n",
      "\n",
      "De todos los mails que eran realmente spam, qu\u00e9 porcentaje predije que eran spam?\n",
      "\n",
      "En el ejemplo: 0%"
     ]
    },
    {
     "cell_type": "markdown",
     "metadata": {
      "slideshow": {
       "slide_type": "subslide"
      }
     },
     "source": [
      "![](files/precission_recall.svg)"
     ]
    },
    {
     "cell_type": "markdown",
     "metadata": {
      "slideshow": {
       "slide_type": "subslide"
      }
     },
     "source": [
      "**Precission** = true positives / (true positives + false positives)\n",
      "\n",
      "**Recall** = true positives / (true positives + false negatives)"
     ]
    },
    {
     "cell_type": "markdown",
     "metadata": {
      "slideshow": {
       "slide_type": "fragment"
      }
     },
     "source": [
      "(se llama como **positivo** a la clase con **menos** elementos, y **negativo** a la clase con **m\u00e1s** elementos, porque es lo que sucede habitualmente)"
     ]
    },
    {
     "cell_type": "markdown",
     "metadata": {
      "slideshow": {
       "slide_type": "slide"
      }
     },
     "source": [
      "?\n",
      "==========="
     ]
    }
   ],
   "metadata": {}
  }
 ]
}