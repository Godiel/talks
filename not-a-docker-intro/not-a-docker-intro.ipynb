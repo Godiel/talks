{
 "metadata": {
  "celltoolbar": "Slideshow",
  "name": ""
 },
 "nbformat": 3,
 "nbformat_minor": 0,
 "worksheets": [
  {
   "cells": [
    {
     "cell_type": "heading",
     "level": 1,
     "metadata": {
      "slideshow": {
       "slide_type": "slide"
      }
     },
     "source": [
      "Barriles para la cerveza, containers para todo lo dem\u00e1s"
     ]
    },
    {
     "cell_type": "markdown",
     "metadata": {},
     "source": [
      "(not a docker intro)"
     ]
    },
    {
     "cell_type": "heading",
     "level": 1,
     "metadata": {
      "slideshow": {
       "slide_type": "slide"
      }
     },
     "source": [
      "Qu\u00e9 es esta charla?"
     ]
    },
    {
     "cell_type": "markdown",
     "metadata": {
      "slideshow": {
       "slide_type": "fragment"
      }
     },
     "source": [
      "No es una intro, porque no hablo docker fluido."
     ]
    },
    {
     "cell_type": "markdown",
     "metadata": {
      "slideshow": {
       "slide_type": "fragment"
      }
     },
     "source": [
      "Es simplemente contarles lo que estuve viendo sobre docker, que les puede interesar."
     ]
    },
    {
     "cell_type": "heading",
     "level": 1,
     "metadata": {
      "slideshow": {
       "slide_type": "slide"
      }
     },
     "source": [
      "Qu\u00e9 es Docker?"
     ]
    },
    {
     "cell_type": "markdown",
     "metadata": {},
     "source": [
      "![](files/docker_logo.png \"logo\")"
     ]
    },
    {
     "cell_type": "heading",
     "level": 1,
     "metadata": {
      "slideshow": {
       "slide_type": "subslide"
      }
     },
     "source": [
      "Qu\u00e9 es Docker?"
     ]
    },
    {
     "cell_type": "markdown",
     "metadata": {
      "slideshow": {
       "slide_type": "fragment"
      }
     },
     "source": [
      "- un sistema de virtualizaci\u00f3n"
     ]
    },
    {
     "cell_type": "markdown",
     "metadata": {
      "slideshow": {
       "slide_type": "fragment"
      }
     },
     "source": [
      "* un sistema de deploys"
     ]
    },
    {
     "cell_type": "markdown",
     "metadata": {
      "slideshow": {
       "slide_type": "fragment"
      }
     },
     "source": [
      "* un sistema para compartir entornos virtuales"
     ]
    },
    {
     "cell_type": "markdown",
     "metadata": {
      "slideshow": {
       "slide_type": "fragment"
      }
     },
     "source": [
      "* un sistema de empaquetado de aplicaciones"
     ]
    },
    {
     "cell_type": "heading",
     "level": 1,
     "metadata": {
      "slideshow": {
       "slide_type": "slide"
      }
     },
     "source": [
      "Qu\u00e9 es Docker?????????????????"
     ]
    },
    {
     "cell_type": "markdown",
     "metadata": {
      "slideshow": {
       "slide_type": "fragment"
      }
     },
     "source": [
      "Docker nos permite crear **contenedores** para nuestras aplicaciones."
     ]
    },
    {
     "cell_type": "markdown",
     "metadata": {
      "slideshow": {
       "slide_type": "subslide"
      }
     },
     "source": [
      "Son entornos virtuales aislados, similares a una virtual machine."
     ]
    },
    {
     "cell_type": "markdown",
     "metadata": {
      "slideshow": {
       "slide_type": "fragment"
      }
     },
     "source": [
      "Pero corren sobre el mismo kernel, a la velocidad del resto del SO."
     ]
    },
    {
     "cell_type": "markdown",
     "metadata": {
      "slideshow": {
       "slide_type": "subslide"
      }
     },
     "source": [
      "Se pueden construir reaprovechando otros contenedores como base, guardando solo el diff!"
     ]
    },
    {
     "cell_type": "markdown",
     "metadata": {
      "slideshow": {
       "slide_type": "fragment"
      }
     },
     "source": [
      "Y hay un repo con muchos ya armados por la comunidad (ubuntu, postgres, ...)."
     ]
    },
    {
     "cell_type": "markdown",
     "metadata": {
      "slideshow": {
       "slide_type": "subslide"
      }
     },
     "source": [
      "Un mismo container puede instanciarse todas las veces que uno quiera en paralelo."
     ]
    },
    {
     "cell_type": "markdown",
     "metadata": {
      "slideshow": {
       "slide_type": "fragment"
      }
     },
     "source": [
      "Son descartables."
     ]
    },
    {
     "cell_type": "markdown",
     "metadata": {
      "slideshow": {
       "slide_type": "subslide"
      }
     },
     "source": [
      "Son portables! Corre en mi m\u00e1quina dev, y exactamente lo mismo corre en prod."
     ]
    },
    {
     "cell_type": "markdown",
     "metadata": {
      "slideshow": {
       "slide_type": "fragment"
      }
     },
     "source": [
      "Son f\u00e1ciles de deployar desde una m\u00e1quina a otra."
     ]
    },
    {
     "cell_type": "markdown",
     "metadata": {
      "slideshow": {
       "slide_type": "subslide"
      }
     },
     "source": [
      "Las im\u00e1genes se \"versionan\", uno puede ir guardando distintos estados de una vm como si fuesen distintas im\u00e1genes."
     ]
    },
    {
     "cell_type": "markdown",
     "metadata": {
      "slideshow": {
       "slide_type": "fragment"
      }
     },
     "source": [
      "Y las im\u00e1genes se crean con scripts, obviamente tambi\u00e9n versionables."
     ]
    },
    {
     "cell_type": "heading",
     "level": 1,
     "metadata": {
      "slideshow": {
       "slide_type": "slide"
      }
     },
     "source": [
      "Ejemplo"
     ]
    },
    {
     "cell_type": "markdown",
     "metadata": {
      "slideshow": {
       "slide_type": "subslide"
      }
     },
     "source": [
      "![](files/docker_machines.png \"docker machines\")\n",
      "\n",
      "Instalamos Docker (notebook y server)."
     ]
    },
    {
     "cell_type": "markdown",
     "metadata": {
      "slideshow": {
       "slide_type": "subslide"
      }
     },
     "source": [
      "![](files/dockerfile.png \"dockerfile\")\n",
      "\n",
      "Creamos un script que a partir de una imagen p\u00fablica (ubuntu), instala nuestra app web."
     ]
    },
    {
     "cell_type": "code",
     "collapsed": false,
     "input": [
      "!cat Dockerfile"
     ],
     "language": "python",
     "metadata": {},
     "outputs": [
      {
       "output_type": "stream",
       "stream": "stdout",
       "text": [
        "FROM ubuntu:13.04\r\n",
        "RUN sudo apt-get install vim -y\r\n"
       ]
      }
     ],
     "prompt_number": 3
    },
    {
     "cell_type": "markdown",
     "metadata": {
      "slideshow": {
       "slide_type": "subslide"
      }
     },
     "source": [
      "![](files/docker_build.png \"docker build\")\n",
      "\n",
      "Compilamos una nueva imagen usando el script.\n",
      "\n",
      "\n",
      "    sudo docker build -t ubuntu_vim ."
     ]
    },
    {
     "cell_type": "markdown",
     "metadata": {
      "slideshow": {
       "slide_type": "subslide"
      }
     },
     "source": [
      "![](files/docker_run.png \"docker run\")\n",
      "\n",
      "Levantamos containers usando esa imagen para jugar y probar en nuestra m\u00e1quina.\n",
      "\n",
      "\n",
      "    sudo docker run -i -t ubuntu_vim vim"
     ]
    },
    {
     "cell_type": "markdown",
     "metadata": {
      "slideshow": {
       "slide_type": "subslide"
      }
     },
     "source": [
      "![](files/docker_to_prod.png \"docker to prod\")\n",
      "\n",
      "Pusheamos nuestra imagen a prod, y levantamos containers ah\u00ed.\n",
      "\n",
      "Y/O\n",
      "\n",
      "![](files/docker_publish.png \"docker publish\")\n",
      "\n",
      "Pusheamos nuestra imagen al repo p\u00fablico para que otros la usen."
     ]
    },
    {
     "cell_type": "markdown",
     "metadata": {
      "slideshow": {
       "slide_type": "subslide"
      }
     },
     "source": [
      "Profit!"
     ]
    },
    {
     "cell_type": "heading",
     "level": 1,
     "metadata": {
      "slideshow": {
       "slide_type": "slide"
      }
     },
     "source": [
      "Features extras que vi"
     ]
    },
    {
     "cell_type": "markdown",
     "metadata": {
      "slideshow": {
       "slide_type": "subslide"
      }
     },
     "source": [
      "Montar almacenamiento local en el container es re f\u00e1cil (ej: archivos de la db, logs, ...). \n",
      "\n",
      "Y tambi\u00e9n compartir vol\u00famenes entre containers."
     ]
    },
    {
     "cell_type": "markdown",
     "metadata": {
      "slideshow": {
       "slide_type": "subslide"
      }
     },
     "source": [
      "Es sencillo conectar containers entre s\u00ed con puertos \"nombrados\". \n",
      "\n",
      "Ej: che container \"la web app\", la db est\u00e1 en el container \"la db\", usando el puerto \"puerto db\""
     ]
    },
    {
     "cell_type": "markdown",
     "metadata": {
      "slideshow": {
       "slide_type": "subslide"
      }
     },
     "source": [
      "Se puede levantar un container, modificar datos, y despu\u00e9s \"congelar\" el estado en una nueva versi\u00f3n de una imagen. Ideal para cosas no automatizables."
     ]
    },
    {
     "cell_type": "heading",
     "level": 1,
     "metadata": {
      "slideshow": {
       "slide_type": "slide"
      }
     },
     "source": [
      "Preguntas?"
     ]
    },
    {
     "cell_type": "markdown",
     "metadata": {},
     "source": [
      "Probablemente no las voy a saber responder :)"
     ]
    },
    {
     "cell_type": "heading",
     "level": 1,
     "metadata": {
      "slideshow": {
       "slide_type": "slide"
      }
     },
     "source": [
      "Credits"
     ]
    },
    {
     "cell_type": "markdown",
     "metadata": {},
     "source": [
      "- Laptop designed by B. Agust\u00edn Amen\u00e1bar Larra\u00edn from the Noun Project.\n",
      "- Server designed by aLf from the Noun Project\n",
      "- Whale designed by Tracy Hudak from the Noun Project\n",
      "- Document by Thomas Le Bas from The Noun Project\n",
      "- Create Database by Ilsur Aptukov from The Noun Project\n",
      "- Play designed by Jos\u00e9 Campos from the Noun Project\n",
      "- Exit designed by Oleg Frolov from the Noun Project\n",
      "- Community designed by Roger Cline from the Noun Project"
     ]
    }
   ],
   "metadata": {}
  }
 ]
}