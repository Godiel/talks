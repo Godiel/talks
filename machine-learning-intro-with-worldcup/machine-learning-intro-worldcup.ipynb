{
 "metadata": {
  "celltoolbar": "Slideshow",
  "name": "",
  "signature": "sha256:97bcf4b70fbcdcbf4d51922ef896b842aeb4b11f3e9d32ea028c5f81037b8449"
 },
 "nbformat": 3,
 "nbformat_minor": 0,
 "worksheets": [
  {
   "cells": [
    {
     "cell_type": "markdown",
     "metadata": {
      "internals": {
       "slide_helper": "subslide_end",
       "slide_type": "subslide"
      },
      "slide_helper": "slide_end",
      "slideshow": {
       "slide_type": "slide"
      }
     },
     "source": [
      "Aprendiendo Machine Learning con el Mundial\n",
      "===========================================\n",
      "\n",
      "Nombre alternativo de la charla: Antonio\n",
      "\n",
      "Juan Pedro Fisanotti"
     ]
    },
    {
     "cell_type": "markdown",
     "metadata": {
      "internals": {
       "slide_type": "subslide"
      },
      "slideshow": {
       "slide_type": "slide"
      }
     },
     "source": [
      "Objetivo de la charla:\n",
      "======================"
     ]
    },
    {
     "cell_type": "markdown",
     "metadata": {
      "internals": {
       "frag_number": 2
      },
      "slideshow": {
       "slide_type": "fragment"
      }
     },
     "source": [
      "- Aprender algunas nociones b\u00e1sicas de Machine Learning\n",
      "- Reforzar esos conocimientos con un ejemplo real"
     ]
    },
    {
     "cell_type": "markdown",
     "metadata": {
      "slideshow": {
       "slide_type": "slide"
      }
     },
     "source": [
      "Machine Learning\n",
      "================"
     ]
    },
    {
     "cell_type": "markdown",
     "metadata": {
      "slideshow": {
       "slide_type": "subslide"
      }
     },
     "source": [
      "Qu\u00e9 es?\n",
      "======="
     ]
    },
    {
     "cell_type": "markdown",
     "metadata": {
      "slideshow": {
       "slide_type": "fragment"
      }
     },
     "source": [
      "- Rama de la inteligencia artificial\n",
      "- Programas que \"aprenden desde los datos\"\n",
      "- Cercana a la estad\u00edstica y m\u00e9todos matem\u00e1ticos"
     ]
    },
    {
     "cell_type": "markdown",
     "metadata": {
      "slideshow": {
       "slide_type": "subslide"
      }
     },
     "source": [
      "Aprendizaje no supervisado\n",
      "=========================="
     ]
    },
    {
     "cell_type": "markdown",
     "metadata": {
      "slideshow": {
       "slide_type": "fragment"
      }
     },
     "source": [
      "Idea principal: reconocer patrones o **agrupaciones** en los datos.\n",
      "\n",
      "No interpreta los grupos, eso nos toca a nosotros."
     ]
    },
    {
     "cell_type": "markdown",
     "metadata": {
      "slideshow": {
       "slide_type": "subslide"
      }
     },
     "source": [
      "![](files/unsupervised_learning_1.svg)"
     ]
    },
    {
     "cell_type": "markdown",
     "metadata": {
      "slideshow": {
       "slide_type": "subslide"
      }
     },
     "source": [
      "![](files/unsupervised_learning_2.svg)"
     ]
    },
    {
     "cell_type": "markdown",
     "metadata": {
      "slideshow": {
       "slide_type": "subslide"
      }
     },
     "source": [
      "Aprendizaje supervisado\n",
      "======================="
     ]
    },
    {
     "cell_type": "markdown",
     "metadata": {
      "slideshow": {
       "slide_type": "fragment"
      }
     },
     "source": [
      "Idea principal: encontrar una **funci\u00f3n** que explique los datos de salida a partir de los datos de entrada.\n",
      "\n",
      "Nosotros tenemos **ambos** grupos de datos."
     ]
    },
    {
     "cell_type": "markdown",
     "metadata": {
      "slideshow": {
       "slide_type": "subslide"
      }
     },
     "source": [
      "![](files/supervised_learning_1.svg)"
     ]
    },
    {
     "cell_type": "markdown",
     "metadata": {
      "slideshow": {
       "slide_type": "subslide"
      }
     },
     "source": [
      "Aprendizaje supervisado - Regresi\u00f3n\n",
      "==================================="
     ]
    },
    {
     "cell_type": "markdown",
     "metadata": {
      "slideshow": {
       "slide_type": "fragment"
      }
     },
     "source": [
      "Una funci\u00f3n corriente y moliente."
     ]
    },
    {
     "cell_type": "markdown",
     "metadata": {
      "slideshow": {
       "slide_type": "subslide"
      }
     },
     "source": [
      "![](files/regression_1.svg)"
     ]
    },
    {
     "cell_type": "markdown",
     "metadata": {
      "slideshow": {
       "slide_type": "subslide"
      }
     },
     "source": [
      "![](files/regression_2.svg)"
     ]
    },
    {
     "cell_type": "markdown",
     "metadata": {
      "slideshow": {
       "slide_type": "subslide"
      }
     },
     "source": [
      "Aprendizaje supervisado - Clasificaci\u00f3n\n",
      "======================================="
     ]
    },
    {
     "cell_type": "markdown",
     "metadata": {
      "slideshow": {
       "slide_type": "fragment"
      }
     },
     "source": [
      "Una funci\u00f3n que devuelva **etiquetas**."
     ]
    },
    {
     "cell_type": "markdown",
     "metadata": {
      "slideshow": {
       "slide_type": "subslide"
      }
     },
     "source": [
      "![](files/clasification_1.svg)"
     ]
    },
    {
     "cell_type": "markdown",
     "metadata": {
      "slideshow": {
       "slide_type": "subslide"
      }
     },
     "source": [
      "![](files/clasification_2.svg)"
     ]
    },
    {
     "cell_type": "markdown",
     "metadata": {
      "slideshow": {
       "slide_type": "slide"
      }
     },
     "source": [
      "Algunas nociones importantes de aprendizaje supervisado\n",
      "======================================================="
     ]
    },
    {
     "cell_type": "markdown",
     "metadata": {
      "slideshow": {
       "slide_type": "subslide"
      }
     },
     "source": [
      "Idea de hip\u00f3tesis\n",
      "================="
     ]
    },
    {
     "cell_type": "markdown",
     "metadata": {
      "slideshow": {
       "slide_type": "subslide"
      }
     },
     "source": [
      "![](files/idea_hipotesis_1.svg)"
     ]
    },
    {
     "cell_type": "markdown",
     "metadata": {
      "slideshow": {
       "slide_type": "subslide"
      }
     },
     "source": [
      "![](files/idea_hipotesis_2.svg)"
     ]
    },
    {
     "cell_type": "markdown",
     "metadata": {
      "slideshow": {
       "slide_type": "subslide"
      }
     },
     "source": [
      "Es una funci\u00f3n **candidata** a ser la que buscamos para predecir las salidas. \n",
      "\n",
      "Los algoritmos van a probar **muchas** hip\u00f3tesis, y devolvernos la mejor que encuentren."
     ]
    },
    {
     "cell_type": "markdown",
     "metadata": {
      "slideshow": {
       "slide_type": "subslide"
      }
     },
     "source": [
      "Idea de modelo\n",
      "=============="
     ]
    },
    {
     "cell_type": "markdown",
     "metadata": {
      "slideshow": {
       "slide_type": "subslide"
      }
     },
     "source": [
      "![](files/idea_modelo_1.svg)"
     ]
    },
    {
     "cell_type": "markdown",
     "metadata": {
      "slideshow": {
       "slide_type": "subslide"
      }
     },
     "source": [
      "![](files/idea_modelo_2.svg)"
     ]
    },
    {
     "cell_type": "markdown",
     "metadata": {
      "slideshow": {
       "slide_type": "subslide"
      }
     },
     "source": [
      "Es el tipo de funci\u00f3n, el **molde**, que vamos a utilizar para armar nuestras hip\u00f3tesis.\n",
      "\n",
      "Por lo general, un algoritmo espec\u00edfico de IA sabe trabajar con un tipo espec\u00edfico de funciones, o grupo de tipos similares."
     ]
    },
    {
     "cell_type": "markdown",
     "metadata": {
      "slideshow": {
       "slide_type": "subslide"
      }
     },
     "source": [
      "Modelos param\u00e9tricos y no param\u00e9tricos\n",
      "======================================"
     ]
    },
    {
     "cell_type": "markdown",
     "metadata": {
      "slideshow": {
       "slide_type": "fragment"
      }
     },
     "source": [
      "Hablando mal y pronto:\n",
      "\n",
      "* **Modelo param\u00e9trico**: arma una f() con algunos par\u00e1metros, y eso **solo** basta para hacer predicciones.\n",
      "\n",
      "* **Modelo no param\u00e9trico**: tiene una f() que consulta los datos. Para predecir hace falta la f() **m\u00e1s** los datos."
     ]
    },
    {
     "cell_type": "markdown",
     "metadata": {
      "slideshow": {
       "slide_type": "subslide"
      }
     },
     "source": [
      "![](files/parametricos_vs_no_parametricos.svg)"
     ]
    },
    {
     "cell_type": "markdown",
     "metadata": {
      "slideshow": {
       "slide_type": "subslide"
      }
     },
     "source": [
      "Sobreentrenamiento\n",
      "=================="
     ]
    },
    {
     "cell_type": "markdown",
     "metadata": {
      "slideshow": {
       "slide_type": "subslide"
      }
     },
     "source": [
      "![](files/high_variance_1.svg)"
     ]
    },
    {
     "cell_type": "markdown",
     "metadata": {
      "slideshow": {
       "slide_type": "subslide"
      }
     },
     "source": [
      "![](files/high_variance_2.svg)"
     ]
    },
    {
     "cell_type": "markdown",
     "metadata": {
      "slideshow": {
       "slide_type": "subslide"
      }
     },
     "source": [
      "![](files/high_variance_3.svg)"
     ]
    },
    {
     "cell_type": "markdown",
     "metadata": {
      "slideshow": {
       "slide_type": "subslide"
      }
     },
     "source": [
      "![](files/high_variance_4.svg)"
     ]
    },
    {
     "cell_type": "markdown",
     "metadata": {
      "slideshow": {
       "slide_type": "subslide"
      }
     },
     "source": [
      "![](files/high_variance_5.svg)"
     ]
    },
    {
     "cell_type": "markdown",
     "metadata": {
      "slideshow": {
       "slide_type": "subslide"
      }
     },
     "source": [
      "![](files/high_variance_6.svg)"
     ]
    },
    {
     "cell_type": "markdown",
     "metadata": {
      "slideshow": {
       "slide_type": "slide"
      }
     },
     "source": [
      "Algunos algoritmos de aprendizaje supervisado\n",
      "=============================================\n",
      "\n",
      "(ejemplos, hay muchos)"
     ]
    },
    {
     "cell_type": "markdown",
     "metadata": {
      "slideshow": {
       "slide_type": "subslide"
      }
     },
     "source": [
      "K-Vecinos\n",
      "========="
     ]
    },
    {
     "cell_type": "markdown",
     "metadata": {
      "slideshow": {
       "slide_type": "subslide"
      }
     },
     "source": [
      "![](files/k_neighbors_1.svg)"
     ]
    },
    {
     "cell_type": "markdown",
     "metadata": {
      "slideshow": {
       "slide_type": "subslide"
      }
     },
     "source": [
      "![](files/k_neighbors_2.svg)"
     ]
    },
    {
     "cell_type": "markdown",
     "metadata": {
      "slideshow": {
       "slide_type": "subslide"
      }
     },
     "source": [
      "![](files/k_neighbors_3.svg)"
     ]
    },
    {
     "cell_type": "markdown",
     "metadata": {
      "slideshow": {
       "slide_type": "subslide"
      }
     },
     "source": [
      "![](files/k_neighbors_4.svg)"
     ]
    },
    {
     "cell_type": "markdown",
     "metadata": {
      "slideshow": {
       "slide_type": "subslide"
      }
     },
     "source": [
      "- Es **no param\u00e9trico**. Necesita los datos siempre.\n",
      "- Es muy **simple**, no tiene tiempo de entrenamiento."
     ]
    },
    {
     "cell_type": "markdown",
     "metadata": {
      "slideshow": {
       "slide_type": "subslide"
      }
     },
     "source": [
      "Redes neuronales\n",
      "================"
     ]
    },
    {
     "cell_type": "markdown",
     "metadata": {
      "slideshow": {
       "slide_type": "subslide"
      }
     },
     "source": [
      "![](files/neural_networks_1.svg)"
     ]
    },
    {
     "cell_type": "markdown",
     "metadata": {
      "slideshow": {
       "slide_type": "subslide"
      }
     },
     "source": [
      "![](files/neural_networks_2.svg)"
     ]
    },
    {
     "cell_type": "markdown",
     "metadata": {
      "slideshow": {
       "slide_type": "subslide"
      }
     },
     "source": [
      "- Es **param\u00e9trico**, aprende una funci\u00f3n y con eso puede predecir, sin llevarse los datos.\n",
      "- Hay que entrenarlas, y es un proceso **pesado** y **lento**.\n",
      "- Pueden aprender funciones super complejas (t\u00e9cnicamente, **cualquier** funci\u00f3n)"
     ]
    },
    {
     "cell_type": "code",
     "collapsed": false,
     "input": [],
     "language": "python",
     "metadata": {},
     "outputs": []
    }
   ],
   "metadata": {}
  }
 ]
}